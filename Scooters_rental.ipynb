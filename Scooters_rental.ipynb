{
 "cells": [
  {
   "cell_type": "markdown",
   "id": "47d0e706",
   "metadata": {},
   "source": [
    "# Проект: Статистический анализ данных\n",
    "Анализ популярного сервиса аренды самокатов GoFast. \n",
    "Проанализируем данные и проверим некоторые гипотезы, которые могут помочь бизнесу вырасти.  \n",
    "\n",
    "Чтобы совершать поездки по городу, пользователи сервиса GoFast пользуются мобильным приложением. Сервисом можно пользоваться:  \n",
    "*без подписки*  \n",
    "абонентская плата отсутствует;  \n",
    "стоимость одной минуты поездки — 8 рублей;  \n",
    "стоимость старта (начала поездки) — 50 рублей;  \n",
    "\n",
    "*с подпиской Ultra*  \n",
    "абонентская плата — 199 рублей в месяц;  \n",
    "стоимость одной минуты поездки — 6 рублей;  \n",
    "стоимость старта — бесплатно.  \n",
    "\n",
    "В основных данных есть информация о пользователях, их поездках и подписках.   \n",
    "Пользователи — users_go.csv  \n",
    "user_id\tуникальный идентификатор пользователя  \n",
    "name\tимя пользователя  \n",
    "age\tвозраст  \n",
    "city\tгород  \n",
    "subscription_type\tтип подписки (free, ultra).  \n",
    "\n",
    "Поездки — rides_go.csv  \n",
    "user_id\tуникальный идентификатор пользователя  \n",
    "distance\tрасстояние, которое пользователь проехал в текущей сессии (в метрах)  \n",
    "duration\tпродолжительность сессии (в минутах) — время с того момента, как пользователь нажал кнопку «Начать поездку» до момента, как он нажал кнопку «Завершить поездку»  \n",
    "date\tдата совершения поездки.    \n",
    "\n",
    "Подписки — subscriptions_go.csv  \n",
    "subscription_type\tтип подписки  \n",
    "minute_price\tстоимость одной минуты поездки по данной подписке  \n",
    "start_ride_price\tстоимость начала поездки  \n",
    "subscription_fee\tстоимость ежемесячного платежа.    \n",
    "\n",
    "Изучим информацию, подготовим данные к дальнейшей работе, проведем исследовательский и статистический анализ."
   ]
  },
  {
   "cell_type": "code",
   "execution_count": 1,
   "id": "72576667",
   "metadata": {},
   "outputs": [],
   "source": [
    "import pandas as pd\n",
    "import numpy as np\n",
    "import matplotlib.pyplot as plt\n",
    "import math\n",
    "from scipy import stats as st\n",
    "from io import BytesIO\n",
    "import requests"
   ]
  },
  {
   "cell_type": "markdown",
   "id": "c42cbe00",
   "metadata": {},
   "source": [
    "#### Шаг 1. Загрузка данных"
   ]
  },
  {
   "cell_type": "markdown",
   "id": "bb0e824b",
   "metadata": {},
   "source": [
    "Для анализа предоставлены 3 файла с данными: о пользователях, поездках и тарифах. Ознакомимся с каждым из наборов данных."
   ]
  },
  {
   "cell_type": "code",
   "execution_count": 2,
   "id": "eff9f206",
   "metadata": {},
   "outputs": [
    {
     "data": {
      "text/html": [
       "<div>\n",
       "<style scoped>\n",
       "    .dataframe tbody tr th:only-of-type {\n",
       "        vertical-align: middle;\n",
       "    }\n",
       "\n",
       "    .dataframe tbody tr th {\n",
       "        vertical-align: top;\n",
       "    }\n",
       "\n",
       "    .dataframe thead th {\n",
       "        text-align: right;\n",
       "    }\n",
       "</style>\n",
       "<table border=\"1\" class=\"dataframe\">\n",
       "  <thead>\n",
       "    <tr style=\"text-align: right;\">\n",
       "      <th></th>\n",
       "      <th>user_id</th>\n",
       "      <th>name</th>\n",
       "      <th>age</th>\n",
       "      <th>city</th>\n",
       "      <th>subscription_type</th>\n",
       "    </tr>\n",
       "  </thead>\n",
       "  <tbody>\n",
       "    <tr>\n",
       "      <th>0</th>\n",
       "      <td>1</td>\n",
       "      <td>Кира</td>\n",
       "      <td>22</td>\n",
       "      <td>Тюмень</td>\n",
       "      <td>ultra</td>\n",
       "    </tr>\n",
       "    <tr>\n",
       "      <th>1</th>\n",
       "      <td>2</td>\n",
       "      <td>Станислав</td>\n",
       "      <td>31</td>\n",
       "      <td>Омск</td>\n",
       "      <td>ultra</td>\n",
       "    </tr>\n",
       "    <tr>\n",
       "      <th>2</th>\n",
       "      <td>3</td>\n",
       "      <td>Алексей</td>\n",
       "      <td>20</td>\n",
       "      <td>Москва</td>\n",
       "      <td>ultra</td>\n",
       "    </tr>\n",
       "    <tr>\n",
       "      <th>3</th>\n",
       "      <td>4</td>\n",
       "      <td>Константин</td>\n",
       "      <td>26</td>\n",
       "      <td>Ростов-на-Дону</td>\n",
       "      <td>ultra</td>\n",
       "    </tr>\n",
       "    <tr>\n",
       "      <th>4</th>\n",
       "      <td>5</td>\n",
       "      <td>Адель</td>\n",
       "      <td>28</td>\n",
       "      <td>Омск</td>\n",
       "      <td>ultra</td>\n",
       "    </tr>\n",
       "    <tr>\n",
       "      <th>5</th>\n",
       "      <td>6</td>\n",
       "      <td>Регина</td>\n",
       "      <td>25</td>\n",
       "      <td>Краснодар</td>\n",
       "      <td>ultra</td>\n",
       "    </tr>\n",
       "    <tr>\n",
       "      <th>6</th>\n",
       "      <td>7</td>\n",
       "      <td>Игорь</td>\n",
       "      <td>23</td>\n",
       "      <td>Омск</td>\n",
       "      <td>ultra</td>\n",
       "    </tr>\n",
       "    <tr>\n",
       "      <th>7</th>\n",
       "      <td>8</td>\n",
       "      <td>Юрий</td>\n",
       "      <td>23</td>\n",
       "      <td>Краснодар</td>\n",
       "      <td>ultra</td>\n",
       "    </tr>\n",
       "    <tr>\n",
       "      <th>8</th>\n",
       "      <td>9</td>\n",
       "      <td>Ян</td>\n",
       "      <td>21</td>\n",
       "      <td>Пятигорск</td>\n",
       "      <td>ultra</td>\n",
       "    </tr>\n",
       "    <tr>\n",
       "      <th>9</th>\n",
       "      <td>10</td>\n",
       "      <td>Валерий</td>\n",
       "      <td>18</td>\n",
       "      <td>Екатеринбург</td>\n",
       "      <td>ultra</td>\n",
       "    </tr>\n",
       "  </tbody>\n",
       "</table>\n",
       "</div>"
      ],
      "text/plain": [
       "   user_id        name  age            city subscription_type\n",
       "0        1        Кира   22          Тюмень             ultra\n",
       "1        2   Станислав   31            Омск             ultra\n",
       "2        3     Алексей   20          Москва             ultra\n",
       "3        4  Константин   26  Ростов-на-Дону             ultra\n",
       "4        5       Адель   28            Омск             ultra\n",
       "5        6      Регина   25       Краснодар             ultra\n",
       "6        7       Игорь   23            Омск             ultra\n",
       "7        8        Юрий   23       Краснодар             ultra\n",
       "8        9          Ян   21       Пятигорск             ultra\n",
       "9       10     Валерий   18    Екатеринбург             ultra"
      ]
     },
     "metadata": {},
     "output_type": "display_data"
    }
   ],
   "source": [
    "spreadsheet_id = '1zroC8F7Q9NHafAqFeVgJkZbD1r3doqXalN3shYdobjw'\n",
    "file_name = 'https://docs.google.com/spreadsheets/d/{}/export?format=csv'.format(spreadsheet_id)\n",
    "r = requests.get(file_name)\n",
    "data = pd.read_csv(BytesIO(r.content))\n",
    "display(data.head(10))"
   ]
  },
  {
   "cell_type": "code",
   "execution_count": 3,
   "id": "ed519cb2",
   "metadata": {},
   "outputs": [
    {
     "data": {
      "text/html": [
       "<div>\n",
       "<style scoped>\n",
       "    .dataframe tbody tr th:only-of-type {\n",
       "        vertical-align: middle;\n",
       "    }\n",
       "\n",
       "    .dataframe tbody tr th {\n",
       "        vertical-align: top;\n",
       "    }\n",
       "\n",
       "    .dataframe thead th {\n",
       "        text-align: right;\n",
       "    }\n",
       "</style>\n",
       "<table border=\"1\" class=\"dataframe\">\n",
       "  <thead>\n",
       "    <tr style=\"text-align: right;\">\n",
       "      <th></th>\n",
       "      <th>user_id</th>\n",
       "      <th>distance</th>\n",
       "      <th>duration</th>\n",
       "      <th>date</th>\n",
       "    </tr>\n",
       "  </thead>\n",
       "  <tbody>\n",
       "    <tr>\n",
       "      <th>0</th>\n",
       "      <td>1</td>\n",
       "      <td>4409.919140</td>\n",
       "      <td>25.599769</td>\n",
       "      <td>2021-01-01</td>\n",
       "    </tr>\n",
       "    <tr>\n",
       "      <th>1</th>\n",
       "      <td>1</td>\n",
       "      <td>2617.592153</td>\n",
       "      <td>15.816871</td>\n",
       "      <td>2021-01-18</td>\n",
       "    </tr>\n",
       "    <tr>\n",
       "      <th>2</th>\n",
       "      <td>1</td>\n",
       "      <td>754.159807</td>\n",
       "      <td>6.232113</td>\n",
       "      <td>2021-04-20</td>\n",
       "    </tr>\n",
       "    <tr>\n",
       "      <th>3</th>\n",
       "      <td>1</td>\n",
       "      <td>2694.783254</td>\n",
       "      <td>18.511000</td>\n",
       "      <td>2021-08-11</td>\n",
       "    </tr>\n",
       "    <tr>\n",
       "      <th>4</th>\n",
       "      <td>1</td>\n",
       "      <td>4028.687306</td>\n",
       "      <td>26.265803</td>\n",
       "      <td>2021-08-28</td>\n",
       "    </tr>\n",
       "    <tr>\n",
       "      <th>5</th>\n",
       "      <td>1</td>\n",
       "      <td>2770.890808</td>\n",
       "      <td>16.650138</td>\n",
       "      <td>2021-10-09</td>\n",
       "    </tr>\n",
       "    <tr>\n",
       "      <th>6</th>\n",
       "      <td>1</td>\n",
       "      <td>3039.020292</td>\n",
       "      <td>14.927879</td>\n",
       "      <td>2021-10-19</td>\n",
       "    </tr>\n",
       "    <tr>\n",
       "      <th>7</th>\n",
       "      <td>1</td>\n",
       "      <td>2842.118050</td>\n",
       "      <td>23.117468</td>\n",
       "      <td>2021-11-06</td>\n",
       "    </tr>\n",
       "    <tr>\n",
       "      <th>8</th>\n",
       "      <td>1</td>\n",
       "      <td>3412.690668</td>\n",
       "      <td>15.238072</td>\n",
       "      <td>2021-11-14</td>\n",
       "    </tr>\n",
       "    <tr>\n",
       "      <th>9</th>\n",
       "      <td>1</td>\n",
       "      <td>748.690645</td>\n",
       "      <td>15.041884</td>\n",
       "      <td>2021-11-22</td>\n",
       "    </tr>\n",
       "  </tbody>\n",
       "</table>\n",
       "</div>"
      ],
      "text/plain": [
       "   user_id     distance   duration        date\n",
       "0        1  4409.919140  25.599769  2021-01-01\n",
       "1        1  2617.592153  15.816871  2021-01-18\n",
       "2        1   754.159807   6.232113  2021-04-20\n",
       "3        1  2694.783254  18.511000  2021-08-11\n",
       "4        1  4028.687306  26.265803  2021-08-28\n",
       "5        1  2770.890808  16.650138  2021-10-09\n",
       "6        1  3039.020292  14.927879  2021-10-19\n",
       "7        1  2842.118050  23.117468  2021-11-06\n",
       "8        1  3412.690668  15.238072  2021-11-14\n",
       "9        1   748.690645  15.041884  2021-11-22"
      ]
     },
     "metadata": {},
     "output_type": "display_data"
    }
   ],
   "source": [
    "spreadsheet_id = '156pDDXRSj2rqIS-ahWE8OQzaPiur9oib3l6Ua0d5wvA'\n",
    "file_name = 'https://docs.google.com/spreadsheets/d/{}/export?format=csv'.format(spreadsheet_id)\n",
    "r = requests.get(file_name)\n",
    "rides_go = pd.read_csv(BytesIO(r.content))\n",
    "display(rides_go.head(10))"
   ]
  },
  {
   "cell_type": "code",
   "execution_count": 4,
   "id": "0ea0fa94",
   "metadata": {},
   "outputs": [
    {
     "data": {
      "text/html": [
       "<div>\n",
       "<style scoped>\n",
       "    .dataframe tbody tr th:only-of-type {\n",
       "        vertical-align: middle;\n",
       "    }\n",
       "\n",
       "    .dataframe tbody tr th {\n",
       "        vertical-align: top;\n",
       "    }\n",
       "\n",
       "    .dataframe thead th {\n",
       "        text-align: right;\n",
       "    }\n",
       "</style>\n",
       "<table border=\"1\" class=\"dataframe\">\n",
       "  <thead>\n",
       "    <tr style=\"text-align: right;\">\n",
       "      <th></th>\n",
       "      <th>subscription_type</th>\n",
       "      <th>minute_price</th>\n",
       "      <th>start_ride_price</th>\n",
       "      <th>subscription_fee</th>\n",
       "    </tr>\n",
       "  </thead>\n",
       "  <tbody>\n",
       "    <tr>\n",
       "      <th>0</th>\n",
       "      <td>free</td>\n",
       "      <td>8</td>\n",
       "      <td>50</td>\n",
       "      <td>0</td>\n",
       "    </tr>\n",
       "    <tr>\n",
       "      <th>1</th>\n",
       "      <td>ultra</td>\n",
       "      <td>6</td>\n",
       "      <td>0</td>\n",
       "      <td>199</td>\n",
       "    </tr>\n",
       "  </tbody>\n",
       "</table>\n",
       "</div>"
      ],
      "text/plain": [
       "  subscription_type  minute_price  start_ride_price  subscription_fee\n",
       "0              free             8                50                 0\n",
       "1             ultra             6                 0               199"
      ]
     },
     "metadata": {},
     "output_type": "display_data"
    }
   ],
   "source": [
    "spreadsheet_id = '1mJ0TgB651NVbEJNMjuvsdT7-kEU-U2yUhvE3p-X3EzY'\n",
    "file_name = 'https://docs.google.com/spreadsheets/d/{}/export?format=csv'.format(spreadsheet_id)\n",
    "r = requests.get(file_name)\n",
    "subscriptions_go = pd.read_csv(BytesIO(r.content))\n",
    "display(subscriptions_go.head(10))"
   ]
  },
  {
   "cell_type": "markdown",
   "id": "e95ebca7",
   "metadata": {},
   "source": [
    "#### Шаг 2. Предобработка данных"
   ]
  },
  {
   "cell_type": "markdown",
   "id": "370567ee",
   "metadata": {},
   "source": [
    "Проведем предобработку данных. Для этого изучим общую информацию о содержимом датафреймов."
   ]
  },
  {
   "cell_type": "code",
   "execution_count": 5,
   "id": "8c921ce1",
   "metadata": {},
   "outputs": [
    {
     "name": "stdout",
     "output_type": "stream",
     "text": [
      "<class 'pandas.core.frame.DataFrame'>\n",
      "RangeIndex: 1565 entries, 0 to 1564\n",
      "Data columns (total 5 columns):\n",
      " #   Column             Non-Null Count  Dtype \n",
      "---  ------             --------------  ----- \n",
      " 0   user_id            1565 non-null   int64 \n",
      " 1   name               1565 non-null   object\n",
      " 2   age                1565 non-null   int64 \n",
      " 3   city               1565 non-null   object\n",
      " 4   subscription_type  1565 non-null   object\n",
      "dtypes: int64(2), object(3)\n",
      "memory usage: 61.3+ KB\n"
     ]
    }
   ],
   "source": [
    "data.info()"
   ]
  },
  {
   "cell_type": "markdown",
   "id": "545d13b8",
   "metadata": {},
   "source": [
    "Данные сохранены в корректных форматах и пригодны для дальнейшего анализа.\n",
    "Проверим сведения на наличие дублирующих записей."
   ]
  },
  {
   "cell_type": "code",
   "execution_count": 6,
   "id": "363054b3",
   "metadata": {},
   "outputs": [
    {
     "data": {
      "text/plain": [
       "31"
      ]
     },
     "execution_count": 6,
     "metadata": {},
     "output_type": "execute_result"
    }
   ],
   "source": [
    "data.duplicated().sum()"
   ]
  },
  {
   "cell_type": "markdown",
   "id": "99adc590",
   "metadata": {},
   "source": [
    "Обнаружено 31 дубликат. Т.к. этот датафрейм содержит только общую информацию о пользователях, удаление дублирующих записей не повлияет негативно на дальнейший анализ."
   ]
  },
  {
   "cell_type": "code",
   "execution_count": 7,
   "id": "460e5814",
   "metadata": {},
   "outputs": [],
   "source": [
    "data = data.drop_duplicates(subset=['user_id'], keep='first')"
   ]
  },
  {
   "cell_type": "code",
   "execution_count": 8,
   "id": "554323f8",
   "metadata": {},
   "outputs": [
    {
     "data": {
      "text/plain": [
       "0"
      ]
     },
     "execution_count": 8,
     "metadata": {},
     "output_type": "execute_result"
    }
   ],
   "source": [
    "data.duplicated().sum()"
   ]
  },
  {
   "cell_type": "markdown",
   "id": "6387f2d7",
   "metadata": {},
   "source": [
    "Все записи теперь уникальны.\n",
    "Проверим наличие пропусков в данных."
   ]
  },
  {
   "cell_type": "code",
   "execution_count": 9,
   "id": "8087a59f",
   "metadata": {},
   "outputs": [
    {
     "data": {
      "text/plain": [
       "user_id              0\n",
       "name                 0\n",
       "age                  0\n",
       "city                 0\n",
       "subscription_type    0\n",
       "dtype: int64"
      ]
     },
     "execution_count": 9,
     "metadata": {},
     "output_type": "execute_result"
    }
   ],
   "source": [
    "data.isna().sum()"
   ]
  },
  {
   "cell_type": "markdown",
   "id": "3233bb69",
   "metadata": {},
   "source": [
    "Первый файл содержит чистые, уникальные данные о каждом пользователе. Пропусков нет, что говорит о качественных исходных данных для анализа.\n",
    "\n",
    "Ознакомимся со следующим набором данных из файла о поездках пользователей и обработаем, при необходимости, дублирующие и пропущенные записи."
   ]
  },
  {
   "cell_type": "code",
   "execution_count": 10,
   "id": "88492cf2",
   "metadata": {},
   "outputs": [
    {
     "name": "stdout",
     "output_type": "stream",
     "text": [
      "<class 'pandas.core.frame.DataFrame'>\n",
      "RangeIndex: 18068 entries, 0 to 18067\n",
      "Data columns (total 4 columns):\n",
      " #   Column    Non-Null Count  Dtype  \n",
      "---  ------    --------------  -----  \n",
      " 0   user_id   18068 non-null  int64  \n",
      " 1   distance  18068 non-null  float64\n",
      " 2   duration  18068 non-null  float64\n",
      " 3   date      18068 non-null  object \n",
      "dtypes: float64(2), int64(1), object(1)\n",
      "memory usage: 564.8+ KB\n"
     ]
    }
   ],
   "source": [
    "rides_go.info()"
   ]
  },
  {
   "cell_type": "markdown",
   "id": "75c0b0ad",
   "metadata": {},
   "source": [
    "Столбец с датой поездки выгружен в неподходящем формате. Исправим это и приведем данные к формату \"datetime\"."
   ]
  },
  {
   "cell_type": "code",
   "execution_count": 11,
   "id": "af6d202c",
   "metadata": {},
   "outputs": [],
   "source": [
    "rides_go['date'] = pd.to_datetime(rides_go['date'], format='%Y-%m-%d')"
   ]
  },
  {
   "cell_type": "code",
   "execution_count": 12,
   "id": "04d2e20c",
   "metadata": {},
   "outputs": [
    {
     "name": "stdout",
     "output_type": "stream",
     "text": [
      "<class 'pandas.core.frame.DataFrame'>\n",
      "RangeIndex: 18068 entries, 0 to 18067\n",
      "Data columns (total 4 columns):\n",
      " #   Column    Non-Null Count  Dtype         \n",
      "---  ------    --------------  -----         \n",
      " 0   user_id   18068 non-null  int64         \n",
      " 1   distance  18068 non-null  float64       \n",
      " 2   duration  18068 non-null  float64       \n",
      " 3   date      18068 non-null  datetime64[ns]\n",
      "dtypes: datetime64[ns](1), float64(2), int64(1)\n",
      "memory usage: 564.8 KB\n"
     ]
    }
   ],
   "source": [
    "rides_go.info()"
   ]
  },
  {
   "cell_type": "code",
   "execution_count": 13,
   "id": "6ff1d572",
   "metadata": {},
   "outputs": [
    {
     "data": {
      "text/plain": [
       "0"
      ]
     },
     "execution_count": 13,
     "metadata": {},
     "output_type": "execute_result"
    }
   ],
   "source": [
    "rides_go.duplicated().sum()"
   ]
  },
  {
   "cell_type": "code",
   "execution_count": 14,
   "id": "53a23540",
   "metadata": {},
   "outputs": [
    {
     "data": {
      "text/plain": [
       "user_id     0\n",
       "distance    0\n",
       "duration    0\n",
       "date        0\n",
       "dtype: int64"
      ]
     },
     "execution_count": 14,
     "metadata": {},
     "output_type": "execute_result"
    }
   ],
   "source": [
    "rides_go.isna().sum()"
   ]
  },
  {
   "cell_type": "markdown",
   "id": "b62c33de",
   "metadata": {},
   "source": [
    "Во втором файле так же качественный набор данных, без пропусков и дублирующих сведений. \n",
    "\n",
    "Добавим в датафрейм столбец с порядковым номером месяца осуществления поездки для дальнейшей работы. Но, прежде нужно уточнить, за какие года содержатся данные в датафрейме."
   ]
  },
  {
   "cell_type": "code",
   "execution_count": 15,
   "id": "96d1c2e0",
   "metadata": {},
   "outputs": [
    {
     "data": {
      "text/plain": [
       "2021    18068\n",
       "Name: date, dtype: int64"
      ]
     },
     "execution_count": 15,
     "metadata": {},
     "output_type": "execute_result"
    }
   ],
   "source": [
    "rides_go['date'].dt.year.value_counts()"
   ]
  },
  {
   "cell_type": "markdown",
   "id": "2a2fd7dc",
   "metadata": {},
   "source": [
    "Все поездки совершены в течение одного года (2021г.). Добавим в датафрейм столбец с порядковым номером месяца:"
   ]
  },
  {
   "cell_type": "code",
   "execution_count": 16,
   "id": "292e573c",
   "metadata": {
    "scrolled": true
   },
   "outputs": [
    {
     "data": {
      "text/html": [
       "<div>\n",
       "<style scoped>\n",
       "    .dataframe tbody tr th:only-of-type {\n",
       "        vertical-align: middle;\n",
       "    }\n",
       "\n",
       "    .dataframe tbody tr th {\n",
       "        vertical-align: top;\n",
       "    }\n",
       "\n",
       "    .dataframe thead th {\n",
       "        text-align: right;\n",
       "    }\n",
       "</style>\n",
       "<table border=\"1\" class=\"dataframe\">\n",
       "  <thead>\n",
       "    <tr style=\"text-align: right;\">\n",
       "      <th></th>\n",
       "      <th>user_id</th>\n",
       "      <th>distance</th>\n",
       "      <th>duration</th>\n",
       "      <th>date</th>\n",
       "      <th>mounth</th>\n",
       "    </tr>\n",
       "  </thead>\n",
       "  <tbody>\n",
       "    <tr>\n",
       "      <th>0</th>\n",
       "      <td>1</td>\n",
       "      <td>4409.919140</td>\n",
       "      <td>25.599769</td>\n",
       "      <td>2021-01-01</td>\n",
       "      <td>1</td>\n",
       "    </tr>\n",
       "    <tr>\n",
       "      <th>1</th>\n",
       "      <td>1</td>\n",
       "      <td>2617.592153</td>\n",
       "      <td>15.816871</td>\n",
       "      <td>2021-01-18</td>\n",
       "      <td>1</td>\n",
       "    </tr>\n",
       "    <tr>\n",
       "      <th>2</th>\n",
       "      <td>1</td>\n",
       "      <td>754.159807</td>\n",
       "      <td>6.232113</td>\n",
       "      <td>2021-04-20</td>\n",
       "      <td>4</td>\n",
       "    </tr>\n",
       "    <tr>\n",
       "      <th>3</th>\n",
       "      <td>1</td>\n",
       "      <td>2694.783254</td>\n",
       "      <td>18.511000</td>\n",
       "      <td>2021-08-11</td>\n",
       "      <td>8</td>\n",
       "    </tr>\n",
       "    <tr>\n",
       "      <th>4</th>\n",
       "      <td>1</td>\n",
       "      <td>4028.687306</td>\n",
       "      <td>26.265803</td>\n",
       "      <td>2021-08-28</td>\n",
       "      <td>8</td>\n",
       "    </tr>\n",
       "  </tbody>\n",
       "</table>\n",
       "</div>"
      ],
      "text/plain": [
       "   user_id     distance   duration       date  mounth\n",
       "0        1  4409.919140  25.599769 2021-01-01       1\n",
       "1        1  2617.592153  15.816871 2021-01-18       1\n",
       "2        1   754.159807   6.232113 2021-04-20       4\n",
       "3        1  2694.783254  18.511000 2021-08-11       8\n",
       "4        1  4028.687306  26.265803 2021-08-28       8"
      ]
     },
     "metadata": {},
     "output_type": "display_data"
    }
   ],
   "source": [
    "rides_go['mounth'] = rides_go['date'].dt.month\n",
    "display(rides_go.head(5))"
   ]
  },
  {
   "cell_type": "markdown",
   "id": "45919e8e",
   "metadata": {},
   "source": [
    "Для подсчёта стоимости округлим до следующего целого числа продолжительность каждой поездки в каждой строке исходного датафрейма  (это условие из шага 5)"
   ]
  },
  {
   "cell_type": "code",
   "execution_count": 17,
   "id": "9755ebae",
   "metadata": {},
   "outputs": [
    {
     "data": {
      "text/html": [
       "<div>\n",
       "<style scoped>\n",
       "    .dataframe tbody tr th:only-of-type {\n",
       "        vertical-align: middle;\n",
       "    }\n",
       "\n",
       "    .dataframe tbody tr th {\n",
       "        vertical-align: top;\n",
       "    }\n",
       "\n",
       "    .dataframe thead th {\n",
       "        text-align: right;\n",
       "    }\n",
       "</style>\n",
       "<table border=\"1\" class=\"dataframe\">\n",
       "  <thead>\n",
       "    <tr style=\"text-align: right;\">\n",
       "      <th></th>\n",
       "      <th>user_id</th>\n",
       "      <th>distance</th>\n",
       "      <th>duration</th>\n",
       "      <th>date</th>\n",
       "      <th>mounth</th>\n",
       "    </tr>\n",
       "  </thead>\n",
       "  <tbody>\n",
       "    <tr>\n",
       "      <th>0</th>\n",
       "      <td>1</td>\n",
       "      <td>4409.919140</td>\n",
       "      <td>26.0</td>\n",
       "      <td>2021-01-01</td>\n",
       "      <td>1</td>\n",
       "    </tr>\n",
       "    <tr>\n",
       "      <th>1</th>\n",
       "      <td>1</td>\n",
       "      <td>2617.592153</td>\n",
       "      <td>16.0</td>\n",
       "      <td>2021-01-18</td>\n",
       "      <td>1</td>\n",
       "    </tr>\n",
       "    <tr>\n",
       "      <th>2</th>\n",
       "      <td>1</td>\n",
       "      <td>754.159807</td>\n",
       "      <td>7.0</td>\n",
       "      <td>2021-04-20</td>\n",
       "      <td>4</td>\n",
       "    </tr>\n",
       "    <tr>\n",
       "      <th>3</th>\n",
       "      <td>1</td>\n",
       "      <td>2694.783254</td>\n",
       "      <td>19.0</td>\n",
       "      <td>2021-08-11</td>\n",
       "      <td>8</td>\n",
       "    </tr>\n",
       "    <tr>\n",
       "      <th>4</th>\n",
       "      <td>1</td>\n",
       "      <td>4028.687306</td>\n",
       "      <td>27.0</td>\n",
       "      <td>2021-08-28</td>\n",
       "      <td>8</td>\n",
       "    </tr>\n",
       "  </tbody>\n",
       "</table>\n",
       "</div>"
      ],
      "text/plain": [
       "   user_id     distance  duration       date  mounth\n",
       "0        1  4409.919140      26.0 2021-01-01       1\n",
       "1        1  2617.592153      16.0 2021-01-18       1\n",
       "2        1   754.159807       7.0 2021-04-20       4\n",
       "3        1  2694.783254      19.0 2021-08-11       8\n",
       "4        1  4028.687306      27.0 2021-08-28       8"
      ]
     },
     "metadata": {},
     "output_type": "display_data"
    }
   ],
   "source": [
    "# каждое значение из столбца duration округляется с помощью «потолка»: \n",
    "rides_go['duration'] = np.ceil(rides_go['duration']) \n",
    "display(rides_go.head(5))"
   ]
  },
  {
   "cell_type": "code",
   "execution_count": 18,
   "id": "a1df7744",
   "metadata": {},
   "outputs": [
    {
     "name": "stdout",
     "output_type": "stream",
     "text": [
      "<class 'pandas.core.frame.DataFrame'>\n",
      "RangeIndex: 2 entries, 0 to 1\n",
      "Data columns (total 4 columns):\n",
      " #   Column             Non-Null Count  Dtype \n",
      "---  ------             --------------  ----- \n",
      " 0   subscription_type  2 non-null      object\n",
      " 1   minute_price       2 non-null      int64 \n",
      " 2   start_ride_price   2 non-null      int64 \n",
      " 3   subscription_fee   2 non-null      int64 \n",
      "dtypes: int64(3), object(1)\n",
      "memory usage: 192.0+ bytes\n"
     ]
    }
   ],
   "source": [
    "subscriptions_go.info()"
   ]
  },
  {
   "cell_type": "markdown",
   "id": "bf762c03",
   "metadata": {},
   "source": [
    "Датафреймы обработаны от дублирующих записей. Пропусков данных не обнаружено. Сведения сохранены в \"рабочих\" форматах. Данные готовы для дальнейшего анализа."
   ]
  },
  {
   "cell_type": "markdown",
   "id": "212593c7",
   "metadata": {},
   "source": [
    "#### Шаг 3. Исследовательский анализ данных"
   ]
  },
  {
   "cell_type": "markdown",
   "id": "cace2987",
   "metadata": {},
   "source": [
    "На этом шаге проведем исследовательский анализ: изучим и визуализируем общую информацию о пользователях и поездках.\n",
    "\n",
    "##### Подсчитаем частоту встречаемости городов:"
   ]
  },
  {
   "cell_type": "code",
   "execution_count": 19,
   "id": "e3a4274c",
   "metadata": {},
   "outputs": [
    {
     "data": {
      "text/plain": [
       "Пятигорск         219\n",
       "Екатеринбург      204\n",
       "Ростов-на-Дону    198\n",
       "Краснодар         193\n",
       "Сочи              189\n",
       "Омск              183\n",
       "Тюмень            180\n",
       "Москва            168\n",
       "Name: city, dtype: int64"
      ]
     },
     "execution_count": 19,
     "metadata": {},
     "output_type": "execute_result"
    }
   ],
   "source": [
    "data['city'].value_counts()"
   ]
  },
  {
   "cell_type": "markdown",
   "id": "5f75250d",
   "metadata": {},
   "source": [
    "Отразим полученные данные на графике для наглядности:"
   ]
  },
  {
   "cell_type": "code",
   "execution_count": 20,
   "id": "04133415",
   "metadata": {},
   "outputs": [
    {
     "data": {
      "image/png": "[encoded data removed]",
      "text/plain": [
       "<Figure size 432x288 with 1 Axes>"
      ]
     },
     "metadata": {
      "needs_background": "light"
     },
     "output_type": "display_data"
    }
   ],
   "source": [
    "data['city'].value_counts().plot(kind='barh', error_kw={'ecolor':'0.8','capsize':6},alpha=1)\n",
    "plt.xlabel('количество пользователей')\n",
    "plt.title('частота встречаемости городов')\n",
    "plt.show()"
   ]
  },
  {
   "cell_type": "markdown",
   "id": "62d30cc5",
   "metadata": {},
   "source": [
    "Разброс количества пользователей в городах не очень большой. Все города в среднем встречаются примерно 190 раз. Пр этом, в Пятигорске наблюдается максимальное количество пользователей из исследуемого объема сведений - более 200, а в Москве - минимум, 168 зарегистрированных любителей двухколесного транспорта."
   ]
  },
  {
   "cell_type": "markdown",
   "id": "8117a15b",
   "metadata": {},
   "source": [
    "##### Cоотношение пользователей с подпиской и без подписки"
   ]
  },
  {
   "cell_type": "markdown",
   "id": "97f30587",
   "metadata": {},
   "source": [
    "Чтобы совершать поездки по городу, пользователи сервиса GoFast пользуются мобильным приложением. Сервисом можно пользоваться\n",
    "без подписки  либо с подпиской Ultra. Отобразим долю каждого вида пользователей на диаграмме:"
   ]
  },
  {
   "cell_type": "code",
   "execution_count": 21,
   "id": "c0b8e8ff",
   "metadata": {
    "scrolled": true
   },
   "outputs": [
    {
     "data": {
      "image/png": "[encoded data removed]",
      "text/plain": [
       "<Figure size 432x288 with 1 Axes>"
      ]
     },
     "metadata": {},
     "output_type": "display_data"
    }
   ],
   "source": [
    "data['subscription_type'].value_counts().plot(kind='pie', shadow=True,autopct='%1.1f%%')\n",
    "plt.title('соотношение пользователей с подпиской и без подписки')\n",
    "plt.ylabel('доля пользователей')\n",
    "plt.show()"
   ]
  },
  {
   "cell_type": "markdown",
   "id": "d220f771",
   "metadata": {},
   "source": [
    "Как видим, пользователи разделились практически пополам: 54,4% пользуются сервисом без подписки, а 45,6% - покупают подписку ultra. "
   ]
  },
  {
   "cell_type": "markdown",
   "id": "253750bd",
   "metadata": {},
   "source": [
    "##### Возраст пользователей"
   ]
  },
  {
   "cell_type": "code",
   "execution_count": 22,
   "id": "5a8636aa",
   "metadata": {},
   "outputs": [
    {
     "data": {
      "text/plain": [
       "count    1534.000000\n",
       "mean       24.903520\n",
       "std         4.572367\n",
       "min        12.000000\n",
       "25%        22.000000\n",
       "50%        25.000000\n",
       "75%        28.000000\n",
       "max        43.000000\n",
       "Name: age, dtype: float64"
      ]
     },
     "execution_count": 22,
     "metadata": {},
     "output_type": "execute_result"
    }
   ],
   "source": [
    "data['age'].describe()"
   ]
  },
  {
   "cell_type": "code",
   "execution_count": 23,
   "id": "12f76bd2",
   "metadata": {},
   "outputs": [
    {
     "data": {
      "image/png": "[encoded data removed]",
      "text/plain": [
       "<Figure size 432x288 with 1 Axes>"
      ]
     },
     "metadata": {
      "needs_background": "light"
     },
     "output_type": "display_data"
    }
   ],
   "source": [
    "data['age'].hist(bins=30)\n",
    "plt.title('возраст пользователей')\n",
    "plt.xlabel('возраст, лет')\n",
    "plt.ylabel('частота встречаемости')\n",
    "plt.show()"
   ]
  },
  {
   "cell_type": "markdown",
   "id": "ef32e1e6",
   "metadata": {},
   "source": [
    "Средний возраст пользователей шеринга самокатов - 24,9 лет, медианное значение находится на отметке 25 лет. Эти же данные отражены на графике и, действительно, пик находится на отметке в 25 лет. В целом, возраст пользователей распределен близко к нормальному: нет аномально больших или малых величин. В диапазоне от 12 до 25 лет количество пользователей увеличивается с ростом возраста, после 25 до 40 - плавно уменьшается с увеличением возраста."
   ]
  },
  {
   "cell_type": "markdown",
   "id": "814873be",
   "metadata": {},
   "source": [
    "##### Расстояние, которое пользователь преодолел за одну поездку"
   ]
  },
  {
   "cell_type": "code",
   "execution_count": 24,
   "id": "95e4cbd7",
   "metadata": {},
   "outputs": [
    {
     "data": {
      "text/plain": [
       "count    18068.000000\n",
       "mean      3070.659976\n",
       "std       1116.831209\n",
       "min          0.855683\n",
       "25%       2543.226360\n",
       "50%       3133.609994\n",
       "75%       3776.222735\n",
       "max       7211.007745\n",
       "Name: distance, dtype: float64"
      ]
     },
     "execution_count": 24,
     "metadata": {},
     "output_type": "execute_result"
    }
   ],
   "source": [
    "rides_go['distance'].describe()"
   ]
  },
  {
   "cell_type": "code",
   "execution_count": 25,
   "id": "3449a11f",
   "metadata": {},
   "outputs": [
    {
     "data": {
      "image/png": "[encoded data removed]",
      "text/plain": [
       "<Figure size 432x288 with 1 Axes>"
      ]
     },
     "metadata": {
      "needs_background": "light"
     },
     "output_type": "display_data"
    }
   ],
   "source": [
    "rides_go['distance'].hist(bins=20)\n",
    "plt.title('расстояние, которое пользователь преодолел за одну поездку')\n",
    "plt.xlabel('расстояние, м')\n",
    "plt.ylabel('количество поездок')\n",
    "plt.show()"
   ]
  },
  {
   "cell_type": "markdown",
   "id": "b7c816da",
   "metadata": {},
   "source": [
    "В среднем, пользователи используют самокат на поездки около 3 км. Это подтверждает и медианное и среднее значение из датафрейма. Небольшое количество пользователей в диапазоне поездки до 1 км - это, скорее всего, те, кто хотел просто прокатиться, попробовать и для себя понять, интересен ли им этот вид транспорта или безопаснее пешком. Основная масса поездок осуществляется на расстояния от 2 до 5 км."
   ]
  },
  {
   "cell_type": "markdown",
   "id": "7dfb7c79",
   "metadata": {},
   "source": [
    "Если усреднить данные по каждому пользователю, то, в целом, подтвердится предыдущий вывод - средняя дистанция поездки в районе 3 км, оптимальное расстояние - от 2,5 до 3,5 км."
   ]
  },
  {
   "cell_type": "code",
   "execution_count": 26,
   "id": "3426c424",
   "metadata": {},
   "outputs": [
    {
     "data": {
      "image/png": "[encoded data removed]",
      "text/plain": [
       "<Figure size 432x288 with 1 Axes>"
      ]
     },
     "metadata": {
      "needs_background": "light"
     },
     "output_type": "display_data"
    }
   ],
   "source": [
    "rides_go.pivot_table(index='user_id', values='distance', aggfunc='mean').plot(kind='hist', grid=True)\n",
    "plt.title('среднее расстояние, которое пользователь преодолел за одну поездку')\n",
    "plt.xlabel('расстояние, м')\n",
    "plt.ylabel('количество поездок')\n",
    "plt.show()"
   ]
  },
  {
   "cell_type": "markdown",
   "id": "a22b66ec",
   "metadata": {},
   "source": [
    "##### Продолжительность поездок"
   ]
  },
  {
   "cell_type": "code",
   "execution_count": 27,
   "id": "a175a347",
   "metadata": {},
   "outputs": [
    {
     "data": {
      "text/plain": [
       "count    18068.000000\n",
       "mean        18.303520\n",
       "std          6.094928\n",
       "min          1.000000\n",
       "25%         14.000000\n",
       "50%         18.000000\n",
       "75%         22.000000\n",
       "max         41.000000\n",
       "Name: duration, dtype: float64"
      ]
     },
     "execution_count": 27,
     "metadata": {},
     "output_type": "execute_result"
    }
   ],
   "source": [
    "rides_go['duration'].describe()"
   ]
  },
  {
   "cell_type": "code",
   "execution_count": 28,
   "id": "83de0343",
   "metadata": {},
   "outputs": [
    {
     "data": {
      "image/png": "[encoded data removed]",
      "text/plain": [
       "<Figure size 432x288 with 1 Axes>"
      ]
     },
     "metadata": {
      "needs_background": "light"
     },
     "output_type": "display_data"
    }
   ],
   "source": [
    "rides_go['duration'].hist(bins=20)\n",
    "plt.title('продолжительность поездок')\n",
    "plt.xlabel('длительность поездки, мин')\n",
    "plt.ylabel('количество поездок')\n",
    "plt.show()"
   ]
  },
  {
   "cell_type": "markdown",
   "id": "5f6228d1",
   "metadata": {},
   "source": [
    "Как видно на гистограмме, обычно средняя продолжительность поездки составляет примерно 18 минут. С учетом разной скорости движения, которая в большей степени зависит от опыта использования подобного транспорта, поездки занимают от 10 до 25 минут."
   ]
  },
  {
   "cell_type": "markdown",
   "id": "baaed0ae",
   "metadata": {},
   "source": [
    "Рассчитаем скорость передвижения на самокатах и посмотрим, есть ли аномальные значения в данных. Для этого расстояние поездки разделим на продолжительность сессии и выведем основные описательные характеристики полученных данных."
   ]
  },
  {
   "cell_type": "code",
   "execution_count": 29,
   "id": "1c1ee773",
   "metadata": {},
   "outputs": [
    {
     "data": {
      "text/plain": [
       "count    18068.000000\n",
       "mean       197.376144\n",
       "std        366.031230\n",
       "min          0.077789\n",
       "25%        132.086995\n",
       "50%        166.175819\n",
       "75%        208.556447\n",
       "max       7211.007745\n",
       "dtype: float64"
      ]
     },
     "execution_count": 29,
     "metadata": {},
     "output_type": "execute_result"
    }
   ],
   "source": [
    "(rides_go['distance']/rides_go['duration']).describe()"
   ]
  },
  {
   "cell_type": "markdown",
   "id": "ad60e51a",
   "metadata": {},
   "source": [
    "Средняя скорость установилась на отметке в 197 м/мин. Медиана немного меньше = 166 м/мин. Если исходить из представленных ранее выводом, медианное значение лучше описывает реальную скорость: для преодоления расстояния в 3000 м (средняя дистанция поездки) за 18 минут (средняя продолжительность)  нужно ехать со скорость, близкой к медианной - 18х166=2988 м.  \n",
    "Максимальная отметка достигает 7211 м/мин - это аномальное значение, такая скорость нереальна для исследуемого вида транспорта.   \n",
    "Нужно выяснить причину появления таких аномалий для их устранения. Значения оставим без изменения."
   ]
  },
  {
   "cell_type": "markdown",
   "id": "4ef51331",
   "metadata": {},
   "source": [
    "#### Шаг 4. Объединение данных\n",
    "\n",
    "Для дальнейшей работы объединим сведения из 3х файлов в единую таблицу."
   ]
  },
  {
   "cell_type": "code",
   "execution_count": 30,
   "id": "6bf288b5",
   "metadata": {},
   "outputs": [
    {
     "data": {
      "text/html": [
       "<div>\n",
       "<style scoped>\n",
       "    .dataframe tbody tr th:only-of-type {\n",
       "        vertical-align: middle;\n",
       "    }\n",
       "\n",
       "    .dataframe tbody tr th {\n",
       "        vertical-align: top;\n",
       "    }\n",
       "\n",
       "    .dataframe thead th {\n",
       "        text-align: right;\n",
       "    }\n",
       "</style>\n",
       "<table border=\"1\" class=\"dataframe\">\n",
       "  <thead>\n",
       "    <tr style=\"text-align: right;\">\n",
       "      <th></th>\n",
       "      <th>user_id</th>\n",
       "      <th>name</th>\n",
       "      <th>age</th>\n",
       "      <th>city</th>\n",
       "      <th>subscription_type</th>\n",
       "      <th>distance</th>\n",
       "      <th>duration</th>\n",
       "      <th>date</th>\n",
       "      <th>mounth</th>\n",
       "    </tr>\n",
       "  </thead>\n",
       "  <tbody>\n",
       "    <tr>\n",
       "      <th>0</th>\n",
       "      <td>1</td>\n",
       "      <td>Кира</td>\n",
       "      <td>22</td>\n",
       "      <td>Тюмень</td>\n",
       "      <td>ultra</td>\n",
       "      <td>4409.919140</td>\n",
       "      <td>26.0</td>\n",
       "      <td>2021-01-01</td>\n",
       "      <td>1</td>\n",
       "    </tr>\n",
       "    <tr>\n",
       "      <th>1</th>\n",
       "      <td>1</td>\n",
       "      <td>Кира</td>\n",
       "      <td>22</td>\n",
       "      <td>Тюмень</td>\n",
       "      <td>ultra</td>\n",
       "      <td>2617.592153</td>\n",
       "      <td>16.0</td>\n",
       "      <td>2021-01-18</td>\n",
       "      <td>1</td>\n",
       "    </tr>\n",
       "    <tr>\n",
       "      <th>2</th>\n",
       "      <td>1</td>\n",
       "      <td>Кира</td>\n",
       "      <td>22</td>\n",
       "      <td>Тюмень</td>\n",
       "      <td>ultra</td>\n",
       "      <td>754.159807</td>\n",
       "      <td>7.0</td>\n",
       "      <td>2021-04-20</td>\n",
       "      <td>4</td>\n",
       "    </tr>\n",
       "    <tr>\n",
       "      <th>3</th>\n",
       "      <td>1</td>\n",
       "      <td>Кира</td>\n",
       "      <td>22</td>\n",
       "      <td>Тюмень</td>\n",
       "      <td>ultra</td>\n",
       "      <td>2694.783254</td>\n",
       "      <td>19.0</td>\n",
       "      <td>2021-08-11</td>\n",
       "      <td>8</td>\n",
       "    </tr>\n",
       "    <tr>\n",
       "      <th>4</th>\n",
       "      <td>1</td>\n",
       "      <td>Кира</td>\n",
       "      <td>22</td>\n",
       "      <td>Тюмень</td>\n",
       "      <td>ultra</td>\n",
       "      <td>4028.687306</td>\n",
       "      <td>27.0</td>\n",
       "      <td>2021-08-28</td>\n",
       "      <td>8</td>\n",
       "    </tr>\n",
       "    <tr>\n",
       "      <th>...</th>\n",
       "      <td>...</td>\n",
       "      <td>...</td>\n",
       "      <td>...</td>\n",
       "      <td>...</td>\n",
       "      <td>...</td>\n",
       "      <td>...</td>\n",
       "      <td>...</td>\n",
       "      <td>...</td>\n",
       "      <td>...</td>\n",
       "    </tr>\n",
       "    <tr>\n",
       "      <th>18063</th>\n",
       "      <td>1534</td>\n",
       "      <td>Альберт</td>\n",
       "      <td>25</td>\n",
       "      <td>Краснодар</td>\n",
       "      <td>free</td>\n",
       "      <td>3781.098080</td>\n",
       "      <td>20.0</td>\n",
       "      <td>2021-11-04</td>\n",
       "      <td>11</td>\n",
       "    </tr>\n",
       "    <tr>\n",
       "      <th>18064</th>\n",
       "      <td>1534</td>\n",
       "      <td>Альберт</td>\n",
       "      <td>25</td>\n",
       "      <td>Краснодар</td>\n",
       "      <td>free</td>\n",
       "      <td>2840.423057</td>\n",
       "      <td>22.0</td>\n",
       "      <td>2021-11-16</td>\n",
       "      <td>11</td>\n",
       "    </tr>\n",
       "    <tr>\n",
       "      <th>18065</th>\n",
       "      <td>1534</td>\n",
       "      <td>Альберт</td>\n",
       "      <td>25</td>\n",
       "      <td>Краснодар</td>\n",
       "      <td>free</td>\n",
       "      <td>3826.185507</td>\n",
       "      <td>19.0</td>\n",
       "      <td>2021-11-18</td>\n",
       "      <td>11</td>\n",
       "    </tr>\n",
       "    <tr>\n",
       "      <th>18066</th>\n",
       "      <td>1534</td>\n",
       "      <td>Альберт</td>\n",
       "      <td>25</td>\n",
       "      <td>Краснодар</td>\n",
       "      <td>free</td>\n",
       "      <td>2902.308661</td>\n",
       "      <td>17.0</td>\n",
       "      <td>2021-11-27</td>\n",
       "      <td>11</td>\n",
       "    </tr>\n",
       "    <tr>\n",
       "      <th>18067</th>\n",
       "      <td>1534</td>\n",
       "      <td>Альберт</td>\n",
       "      <td>25</td>\n",
       "      <td>Краснодар</td>\n",
       "      <td>free</td>\n",
       "      <td>2371.711192</td>\n",
       "      <td>16.0</td>\n",
       "      <td>2021-12-29</td>\n",
       "      <td>12</td>\n",
       "    </tr>\n",
       "  </tbody>\n",
       "</table>\n",
       "<p>18068 rows × 9 columns</p>\n",
       "</div>"
      ],
      "text/plain": [
       "       user_id     name  age       city subscription_type     distance  \\\n",
       "0            1     Кира   22     Тюмень             ultra  4409.919140   \n",
       "1            1     Кира   22     Тюмень             ultra  2617.592153   \n",
       "2            1     Кира   22     Тюмень             ultra   754.159807   \n",
       "3            1     Кира   22     Тюмень             ultra  2694.783254   \n",
       "4            1     Кира   22     Тюмень             ultra  4028.687306   \n",
       "...        ...      ...  ...        ...               ...          ...   \n",
       "18063     1534  Альберт   25  Краснодар              free  3781.098080   \n",
       "18064     1534  Альберт   25  Краснодар              free  2840.423057   \n",
       "18065     1534  Альберт   25  Краснодар              free  3826.185507   \n",
       "18066     1534  Альберт   25  Краснодар              free  2902.308661   \n",
       "18067     1534  Альберт   25  Краснодар              free  2371.711192   \n",
       "\n",
       "       duration       date  mounth  \n",
       "0          26.0 2021-01-01       1  \n",
       "1          16.0 2021-01-18       1  \n",
       "2           7.0 2021-04-20       4  \n",
       "3          19.0 2021-08-11       8  \n",
       "4          27.0 2021-08-28       8  \n",
       "...         ...        ...     ...  \n",
       "18063      20.0 2021-11-04      11  \n",
       "18064      22.0 2021-11-16      11  \n",
       "18065      19.0 2021-11-18      11  \n",
       "18066      17.0 2021-11-27      11  \n",
       "18067      16.0 2021-12-29      12  \n",
       "\n",
       "[18068 rows x 9 columns]"
      ]
     },
     "execution_count": 30,
     "metadata": {},
     "output_type": "execute_result"
    }
   ],
   "source": [
    "all_data = data.merge(rides_go, on='user_id', how='right')\n",
    "all_data"
   ]
  },
  {
   "cell_type": "code",
   "execution_count": 31,
   "id": "6de2de76",
   "metadata": {
    "scrolled": true
   },
   "outputs": [
    {
     "data": {
      "text/html": [
       "<div>\n",
       "<style scoped>\n",
       "    .dataframe tbody tr th:only-of-type {\n",
       "        vertical-align: middle;\n",
       "    }\n",
       "\n",
       "    .dataframe tbody tr th {\n",
       "        vertical-align: top;\n",
       "    }\n",
       "\n",
       "    .dataframe thead th {\n",
       "        text-align: right;\n",
       "    }\n",
       "</style>\n",
       "<table border=\"1\" class=\"dataframe\">\n",
       "  <thead>\n",
       "    <tr style=\"text-align: right;\">\n",
       "      <th></th>\n",
       "      <th>user_id</th>\n",
       "      <th>name</th>\n",
       "      <th>age</th>\n",
       "      <th>city</th>\n",
       "      <th>subscription_type</th>\n",
       "      <th>distance</th>\n",
       "      <th>duration</th>\n",
       "      <th>date</th>\n",
       "      <th>mounth</th>\n",
       "      <th>minute_price</th>\n",
       "      <th>start_ride_price</th>\n",
       "      <th>subscription_fee</th>\n",
       "    </tr>\n",
       "  </thead>\n",
       "  <tbody>\n",
       "    <tr>\n",
       "      <th>0</th>\n",
       "      <td>1</td>\n",
       "      <td>Кира</td>\n",
       "      <td>22</td>\n",
       "      <td>Тюмень</td>\n",
       "      <td>ultra</td>\n",
       "      <td>4409.919140</td>\n",
       "      <td>26.0</td>\n",
       "      <td>2021-01-01</td>\n",
       "      <td>1</td>\n",
       "      <td>6</td>\n",
       "      <td>0</td>\n",
       "      <td>199</td>\n",
       "    </tr>\n",
       "    <tr>\n",
       "      <th>1</th>\n",
       "      <td>1</td>\n",
       "      <td>Кира</td>\n",
       "      <td>22</td>\n",
       "      <td>Тюмень</td>\n",
       "      <td>ultra</td>\n",
       "      <td>2617.592153</td>\n",
       "      <td>16.0</td>\n",
       "      <td>2021-01-18</td>\n",
       "      <td>1</td>\n",
       "      <td>6</td>\n",
       "      <td>0</td>\n",
       "      <td>199</td>\n",
       "    </tr>\n",
       "    <tr>\n",
       "      <th>2</th>\n",
       "      <td>1</td>\n",
       "      <td>Кира</td>\n",
       "      <td>22</td>\n",
       "      <td>Тюмень</td>\n",
       "      <td>ultra</td>\n",
       "      <td>754.159807</td>\n",
       "      <td>7.0</td>\n",
       "      <td>2021-04-20</td>\n",
       "      <td>4</td>\n",
       "      <td>6</td>\n",
       "      <td>0</td>\n",
       "      <td>199</td>\n",
       "    </tr>\n",
       "    <tr>\n",
       "      <th>3</th>\n",
       "      <td>1</td>\n",
       "      <td>Кира</td>\n",
       "      <td>22</td>\n",
       "      <td>Тюмень</td>\n",
       "      <td>ultra</td>\n",
       "      <td>2694.783254</td>\n",
       "      <td>19.0</td>\n",
       "      <td>2021-08-11</td>\n",
       "      <td>8</td>\n",
       "      <td>6</td>\n",
       "      <td>0</td>\n",
       "      <td>199</td>\n",
       "    </tr>\n",
       "    <tr>\n",
       "      <th>4</th>\n",
       "      <td>1</td>\n",
       "      <td>Кира</td>\n",
       "      <td>22</td>\n",
       "      <td>Тюмень</td>\n",
       "      <td>ultra</td>\n",
       "      <td>4028.687306</td>\n",
       "      <td>27.0</td>\n",
       "      <td>2021-08-28</td>\n",
       "      <td>8</td>\n",
       "      <td>6</td>\n",
       "      <td>0</td>\n",
       "      <td>199</td>\n",
       "    </tr>\n",
       "    <tr>\n",
       "      <th>...</th>\n",
       "      <td>...</td>\n",
       "      <td>...</td>\n",
       "      <td>...</td>\n",
       "      <td>...</td>\n",
       "      <td>...</td>\n",
       "      <td>...</td>\n",
       "      <td>...</td>\n",
       "      <td>...</td>\n",
       "      <td>...</td>\n",
       "      <td>...</td>\n",
       "      <td>...</td>\n",
       "      <td>...</td>\n",
       "    </tr>\n",
       "    <tr>\n",
       "      <th>18063</th>\n",
       "      <td>1534</td>\n",
       "      <td>Альберт</td>\n",
       "      <td>25</td>\n",
       "      <td>Краснодар</td>\n",
       "      <td>free</td>\n",
       "      <td>3781.098080</td>\n",
       "      <td>20.0</td>\n",
       "      <td>2021-11-04</td>\n",
       "      <td>11</td>\n",
       "      <td>8</td>\n",
       "      <td>50</td>\n",
       "      <td>0</td>\n",
       "    </tr>\n",
       "    <tr>\n",
       "      <th>18064</th>\n",
       "      <td>1534</td>\n",
       "      <td>Альберт</td>\n",
       "      <td>25</td>\n",
       "      <td>Краснодар</td>\n",
       "      <td>free</td>\n",
       "      <td>2840.423057</td>\n",
       "      <td>22.0</td>\n",
       "      <td>2021-11-16</td>\n",
       "      <td>11</td>\n",
       "      <td>8</td>\n",
       "      <td>50</td>\n",
       "      <td>0</td>\n",
       "    </tr>\n",
       "    <tr>\n",
       "      <th>18065</th>\n",
       "      <td>1534</td>\n",
       "      <td>Альберт</td>\n",
       "      <td>25</td>\n",
       "      <td>Краснодар</td>\n",
       "      <td>free</td>\n",
       "      <td>3826.185507</td>\n",
       "      <td>19.0</td>\n",
       "      <td>2021-11-18</td>\n",
       "      <td>11</td>\n",
       "      <td>8</td>\n",
       "      <td>50</td>\n",
       "      <td>0</td>\n",
       "    </tr>\n",
       "    <tr>\n",
       "      <th>18066</th>\n",
       "      <td>1534</td>\n",
       "      <td>Альберт</td>\n",
       "      <td>25</td>\n",
       "      <td>Краснодар</td>\n",
       "      <td>free</td>\n",
       "      <td>2902.308661</td>\n",
       "      <td>17.0</td>\n",
       "      <td>2021-11-27</td>\n",
       "      <td>11</td>\n",
       "      <td>8</td>\n",
       "      <td>50</td>\n",
       "      <td>0</td>\n",
       "    </tr>\n",
       "    <tr>\n",
       "      <th>18067</th>\n",
       "      <td>1534</td>\n",
       "      <td>Альберт</td>\n",
       "      <td>25</td>\n",
       "      <td>Краснодар</td>\n",
       "      <td>free</td>\n",
       "      <td>2371.711192</td>\n",
       "      <td>16.0</td>\n",
       "      <td>2021-12-29</td>\n",
       "      <td>12</td>\n",
       "      <td>8</td>\n",
       "      <td>50</td>\n",
       "      <td>0</td>\n",
       "    </tr>\n",
       "  </tbody>\n",
       "</table>\n",
       "<p>18068 rows × 12 columns</p>\n",
       "</div>"
      ],
      "text/plain": [
       "       user_id     name  age       city subscription_type     distance  \\\n",
       "0            1     Кира   22     Тюмень             ultra  4409.919140   \n",
       "1            1     Кира   22     Тюмень             ultra  2617.592153   \n",
       "2            1     Кира   22     Тюмень             ultra   754.159807   \n",
       "3            1     Кира   22     Тюмень             ultra  2694.783254   \n",
       "4            1     Кира   22     Тюмень             ultra  4028.687306   \n",
       "...        ...      ...  ...        ...               ...          ...   \n",
       "18063     1534  Альберт   25  Краснодар              free  3781.098080   \n",
       "18064     1534  Альберт   25  Краснодар              free  2840.423057   \n",
       "18065     1534  Альберт   25  Краснодар              free  3826.185507   \n",
       "18066     1534  Альберт   25  Краснодар              free  2902.308661   \n",
       "18067     1534  Альберт   25  Краснодар              free  2371.711192   \n",
       "\n",
       "       duration       date  mounth  minute_price  start_ride_price  \\\n",
       "0          26.0 2021-01-01       1             6                 0   \n",
       "1          16.0 2021-01-18       1             6                 0   \n",
       "2           7.0 2021-04-20       4             6                 0   \n",
       "3          19.0 2021-08-11       8             6                 0   \n",
       "4          27.0 2021-08-28       8             6                 0   \n",
       "...         ...        ...     ...           ...               ...   \n",
       "18063      20.0 2021-11-04      11             8                50   \n",
       "18064      22.0 2021-11-16      11             8                50   \n",
       "18065      19.0 2021-11-18      11             8                50   \n",
       "18066      17.0 2021-11-27      11             8                50   \n",
       "18067      16.0 2021-12-29      12             8                50   \n",
       "\n",
       "       subscription_fee  \n",
       "0                   199  \n",
       "1                   199  \n",
       "2                   199  \n",
       "3                   199  \n",
       "4                   199  \n",
       "...                 ...  \n",
       "18063                 0  \n",
       "18064                 0  \n",
       "18065                 0  \n",
       "18066                 0  \n",
       "18067                 0  \n",
       "\n",
       "[18068 rows x 12 columns]"
      ]
     },
     "execution_count": 31,
     "metadata": {},
     "output_type": "execute_result"
    }
   ],
   "source": [
    "all_data = all_data.merge(subscriptions_go, on='subscription_type', how='left')\n",
    "all_data"
   ]
  },
  {
   "cell_type": "code",
   "execution_count": 32,
   "id": "2d756f4e",
   "metadata": {},
   "outputs": [
    {
     "data": {
      "text/plain": [
       "18068"
      ]
     },
     "execution_count": 32,
     "metadata": {},
     "output_type": "execute_result"
    }
   ],
   "source": [
    "len(all_data)"
   ]
  },
  {
   "cell_type": "markdown",
   "id": "e8595905",
   "metadata": {},
   "source": [
    "Исходный датафрейм, к которому присоединяли остальные данные, был наибольшим, и содержал 18068 строк. Полученная таблица содержит все исходные данные + присоединенные.  \n",
    "Проверим обновленную таблицу на наличие пропусков."
   ]
  },
  {
   "cell_type": "code",
   "execution_count": 33,
   "id": "cfb9320e",
   "metadata": {},
   "outputs": [
    {
     "data": {
      "text/plain": [
       "user_id              0\n",
       "name                 0\n",
       "age                  0\n",
       "city                 0\n",
       "subscription_type    0\n",
       "distance             0\n",
       "duration             0\n",
       "date                 0\n",
       "mounth               0\n",
       "minute_price         0\n",
       "start_ride_price     0\n",
       "subscription_fee     0\n",
       "dtype: int64"
      ]
     },
     "execution_count": 33,
     "metadata": {},
     "output_type": "execute_result"
    }
   ],
   "source": [
    "all_data.isna().sum()"
   ]
  },
  {
   "cell_type": "markdown",
   "id": "8f4029a2",
   "metadata": {},
   "source": [
    "Все ячейки корректно перенеслись и заполнились. Благодаря качественным исходным данным дальнейшая обработка не доставляет неожиданных сюрпризов."
   ]
  },
  {
   "cell_type": "markdown",
   "id": "915d0a3a",
   "metadata": {},
   "source": [
    "Из объединенной таблицы сделаем два датафрейма:  \n",
    "c данными о пользователях без подписки;  \n",
    "с данными о пользователях с подпиской."
   ]
  },
  {
   "cell_type": "code",
   "execution_count": 34,
   "id": "20bf0672",
   "metadata": {},
   "outputs": [
    {
     "data": {
      "text/html": [
       "<div>\n",
       "<style scoped>\n",
       "    .dataframe tbody tr th:only-of-type {\n",
       "        vertical-align: middle;\n",
       "    }\n",
       "\n",
       "    .dataframe tbody tr th {\n",
       "        vertical-align: top;\n",
       "    }\n",
       "\n",
       "    .dataframe thead th {\n",
       "        text-align: right;\n",
       "    }\n",
       "</style>\n",
       "<table border=\"1\" class=\"dataframe\">\n",
       "  <thead>\n",
       "    <tr style=\"text-align: right;\">\n",
       "      <th></th>\n",
       "      <th>user_id</th>\n",
       "      <th>name</th>\n",
       "      <th>age</th>\n",
       "      <th>city</th>\n",
       "      <th>subscription_type</th>\n",
       "      <th>distance</th>\n",
       "      <th>duration</th>\n",
       "      <th>date</th>\n",
       "      <th>mounth</th>\n",
       "      <th>minute_price</th>\n",
       "      <th>start_ride_price</th>\n",
       "      <th>subscription_fee</th>\n",
       "    </tr>\n",
       "  </thead>\n",
       "  <tbody>\n",
       "    <tr>\n",
       "      <th>6500</th>\n",
       "      <td>700</td>\n",
       "      <td>Айдар</td>\n",
       "      <td>22</td>\n",
       "      <td>Омск</td>\n",
       "      <td>free</td>\n",
       "      <td>2515.690719</td>\n",
       "      <td>15.0</td>\n",
       "      <td>2021-01-02</td>\n",
       "      <td>1</td>\n",
       "      <td>8</td>\n",
       "      <td>50</td>\n",
       "      <td>0</td>\n",
       "    </tr>\n",
       "    <tr>\n",
       "      <th>6501</th>\n",
       "      <td>700</td>\n",
       "      <td>Айдар</td>\n",
       "      <td>22</td>\n",
       "      <td>Омск</td>\n",
       "      <td>free</td>\n",
       "      <td>846.932642</td>\n",
       "      <td>17.0</td>\n",
       "      <td>2021-02-01</td>\n",
       "      <td>2</td>\n",
       "      <td>8</td>\n",
       "      <td>50</td>\n",
       "      <td>0</td>\n",
       "    </tr>\n",
       "    <tr>\n",
       "      <th>6502</th>\n",
       "      <td>700</td>\n",
       "      <td>Айдар</td>\n",
       "      <td>22</td>\n",
       "      <td>Омск</td>\n",
       "      <td>free</td>\n",
       "      <td>4004.434142</td>\n",
       "      <td>21.0</td>\n",
       "      <td>2021-02-04</td>\n",
       "      <td>2</td>\n",
       "      <td>8</td>\n",
       "      <td>50</td>\n",
       "      <td>0</td>\n",
       "    </tr>\n",
       "    <tr>\n",
       "      <th>6503</th>\n",
       "      <td>700</td>\n",
       "      <td>Айдар</td>\n",
       "      <td>22</td>\n",
       "      <td>Омск</td>\n",
       "      <td>free</td>\n",
       "      <td>1205.911290</td>\n",
       "      <td>10.0</td>\n",
       "      <td>2021-02-10</td>\n",
       "      <td>2</td>\n",
       "      <td>8</td>\n",
       "      <td>50</td>\n",
       "      <td>0</td>\n",
       "    </tr>\n",
       "    <tr>\n",
       "      <th>6504</th>\n",
       "      <td>700</td>\n",
       "      <td>Айдар</td>\n",
       "      <td>22</td>\n",
       "      <td>Омск</td>\n",
       "      <td>free</td>\n",
       "      <td>3047.379435</td>\n",
       "      <td>18.0</td>\n",
       "      <td>2021-02-14</td>\n",
       "      <td>2</td>\n",
       "      <td>8</td>\n",
       "      <td>50</td>\n",
       "      <td>0</td>\n",
       "    </tr>\n",
       "  </tbody>\n",
       "</table>\n",
       "</div>"
      ],
      "text/plain": [
       "      user_id   name  age  city subscription_type     distance  duration  \\\n",
       "6500      700  Айдар   22  Омск              free  2515.690719      15.0   \n",
       "6501      700  Айдар   22  Омск              free   846.932642      17.0   \n",
       "6502      700  Айдар   22  Омск              free  4004.434142      21.0   \n",
       "6503      700  Айдар   22  Омск              free  1205.911290      10.0   \n",
       "6504      700  Айдар   22  Омск              free  3047.379435      18.0   \n",
       "\n",
       "           date  mounth  minute_price  start_ride_price  subscription_fee  \n",
       "6500 2021-01-02       1             8                50                 0  \n",
       "6501 2021-02-01       2             8                50                 0  \n",
       "6502 2021-02-04       2             8                50                 0  \n",
       "6503 2021-02-10       2             8                50                 0  \n",
       "6504 2021-02-14       2             8                50                 0  "
      ]
     },
     "execution_count": 34,
     "metadata": {},
     "output_type": "execute_result"
    }
   ],
   "source": [
    "free_data = all_data.query('subscription_type == \"free\"')\n",
    "free_data.head(5)"
   ]
  },
  {
   "cell_type": "code",
   "execution_count": 35,
   "id": "d09ec456",
   "metadata": {},
   "outputs": [
    {
     "data": {
      "text/plain": [
       "11568"
      ]
     },
     "execution_count": 35,
     "metadata": {},
     "output_type": "execute_result"
    }
   ],
   "source": [
    "len(free_data)"
   ]
  },
  {
   "cell_type": "code",
   "execution_count": 36,
   "id": "5f6bf4c7",
   "metadata": {},
   "outputs": [
    {
     "data": {
      "text/html": [
       "<div>\n",
       "<style scoped>\n",
       "    .dataframe tbody tr th:only-of-type {\n",
       "        vertical-align: middle;\n",
       "    }\n",
       "\n",
       "    .dataframe tbody tr th {\n",
       "        vertical-align: top;\n",
       "    }\n",
       "\n",
       "    .dataframe thead th {\n",
       "        text-align: right;\n",
       "    }\n",
       "</style>\n",
       "<table border=\"1\" class=\"dataframe\">\n",
       "  <thead>\n",
       "    <tr style=\"text-align: right;\">\n",
       "      <th></th>\n",
       "      <th>user_id</th>\n",
       "      <th>name</th>\n",
       "      <th>age</th>\n",
       "      <th>city</th>\n",
       "      <th>subscription_type</th>\n",
       "      <th>distance</th>\n",
       "      <th>duration</th>\n",
       "      <th>date</th>\n",
       "      <th>mounth</th>\n",
       "      <th>minute_price</th>\n",
       "      <th>start_ride_price</th>\n",
       "      <th>subscription_fee</th>\n",
       "    </tr>\n",
       "  </thead>\n",
       "  <tbody>\n",
       "    <tr>\n",
       "      <th>0</th>\n",
       "      <td>1</td>\n",
       "      <td>Кира</td>\n",
       "      <td>22</td>\n",
       "      <td>Тюмень</td>\n",
       "      <td>ultra</td>\n",
       "      <td>4409.919140</td>\n",
       "      <td>26.0</td>\n",
       "      <td>2021-01-01</td>\n",
       "      <td>1</td>\n",
       "      <td>6</td>\n",
       "      <td>0</td>\n",
       "      <td>199</td>\n",
       "    </tr>\n",
       "    <tr>\n",
       "      <th>1</th>\n",
       "      <td>1</td>\n",
       "      <td>Кира</td>\n",
       "      <td>22</td>\n",
       "      <td>Тюмень</td>\n",
       "      <td>ultra</td>\n",
       "      <td>2617.592153</td>\n",
       "      <td>16.0</td>\n",
       "      <td>2021-01-18</td>\n",
       "      <td>1</td>\n",
       "      <td>6</td>\n",
       "      <td>0</td>\n",
       "      <td>199</td>\n",
       "    </tr>\n",
       "    <tr>\n",
       "      <th>2</th>\n",
       "      <td>1</td>\n",
       "      <td>Кира</td>\n",
       "      <td>22</td>\n",
       "      <td>Тюмень</td>\n",
       "      <td>ultra</td>\n",
       "      <td>754.159807</td>\n",
       "      <td>7.0</td>\n",
       "      <td>2021-04-20</td>\n",
       "      <td>4</td>\n",
       "      <td>6</td>\n",
       "      <td>0</td>\n",
       "      <td>199</td>\n",
       "    </tr>\n",
       "    <tr>\n",
       "      <th>3</th>\n",
       "      <td>1</td>\n",
       "      <td>Кира</td>\n",
       "      <td>22</td>\n",
       "      <td>Тюмень</td>\n",
       "      <td>ultra</td>\n",
       "      <td>2694.783254</td>\n",
       "      <td>19.0</td>\n",
       "      <td>2021-08-11</td>\n",
       "      <td>8</td>\n",
       "      <td>6</td>\n",
       "      <td>0</td>\n",
       "      <td>199</td>\n",
       "    </tr>\n",
       "    <tr>\n",
       "      <th>4</th>\n",
       "      <td>1</td>\n",
       "      <td>Кира</td>\n",
       "      <td>22</td>\n",
       "      <td>Тюмень</td>\n",
       "      <td>ultra</td>\n",
       "      <td>4028.687306</td>\n",
       "      <td>27.0</td>\n",
       "      <td>2021-08-28</td>\n",
       "      <td>8</td>\n",
       "      <td>6</td>\n",
       "      <td>0</td>\n",
       "      <td>199</td>\n",
       "    </tr>\n",
       "  </tbody>\n",
       "</table>\n",
       "</div>"
      ],
      "text/plain": [
       "   user_id  name  age    city subscription_type     distance  duration  \\\n",
       "0        1  Кира   22  Тюмень             ultra  4409.919140      26.0   \n",
       "1        1  Кира   22  Тюмень             ultra  2617.592153      16.0   \n",
       "2        1  Кира   22  Тюмень             ultra   754.159807       7.0   \n",
       "3        1  Кира   22  Тюмень             ultra  2694.783254      19.0   \n",
       "4        1  Кира   22  Тюмень             ultra  4028.687306      27.0   \n",
       "\n",
       "        date  mounth  minute_price  start_ride_price  subscription_fee  \n",
       "0 2021-01-01       1             6                 0               199  \n",
       "1 2021-01-18       1             6                 0               199  \n",
       "2 2021-04-20       4             6                 0               199  \n",
       "3 2021-08-11       8             6                 0               199  \n",
       "4 2021-08-28       8             6                 0               199  "
      ]
     },
     "execution_count": 36,
     "metadata": {},
     "output_type": "execute_result"
    }
   ],
   "source": [
    "ultra_data = all_data.query('subscription_type == \"ultra\"')\n",
    "ultra_data.head(5)"
   ]
  },
  {
   "cell_type": "code",
   "execution_count": 37,
   "id": "b77a3ccc",
   "metadata": {
    "scrolled": true
   },
   "outputs": [
    {
     "data": {
      "text/plain": [
       "6500"
      ]
     },
     "execution_count": 37,
     "metadata": {},
     "output_type": "execute_result"
    }
   ],
   "source": [
    "len(ultra_data)"
   ]
  },
  {
   "cell_type": "markdown",
   "id": "b43b23c7",
   "metadata": {},
   "source": [
    "Оценим, какое расстояние поездки характерно для обоих категорий пользователей: с подпиской и без нее. Для этого выведем сведения о каждом датасете поочередно:"
   ]
  },
  {
   "cell_type": "code",
   "execution_count": 38,
   "id": "f4ef3b9a",
   "metadata": {},
   "outputs": [
    {
     "data": {
      "text/plain": [
       "count    11568.000000\n",
       "mean      3045.495282\n",
       "std       1246.173806\n",
       "min          0.855683\n",
       "25%       2366.562689\n",
       "50%       3114.648465\n",
       "75%       3905.697894\n",
       "max       7211.007745\n",
       "Name: distance, dtype: float64"
      ]
     },
     "execution_count": 38,
     "metadata": {},
     "output_type": "execute_result"
    }
   ],
   "source": [
    "free_data['distance'].describe()"
   ]
  },
  {
   "cell_type": "code",
   "execution_count": 39,
   "id": "4cb801c1",
   "metadata": {},
   "outputs": [
    {
     "data": {
      "text/plain": [
       "count    6500.000000\n",
       "mean     3115.445388\n",
       "std       836.895330\n",
       "min       244.210438\n",
       "25%      2785.444017\n",
       "50%      3148.637229\n",
       "75%      3560.574425\n",
       "max      5699.769662\n",
       "Name: distance, dtype: float64"
      ]
     },
     "execution_count": 39,
     "metadata": {},
     "output_type": "execute_result"
    }
   ],
   "source": [
    "ultra_data['distance'].describe()"
   ]
  },
  {
   "cell_type": "code",
   "execution_count": 40,
   "id": "36bac317",
   "metadata": {
    "scrolled": true
   },
   "outputs": [
    {
     "data": {
      "image/png": "[encoded data removed]",
      "text/plain": [
       "<Figure size 432x288 with 1 Axes>"
      ]
     },
     "metadata": {
      "needs_background": "light"
     },
     "output_type": "display_data"
    }
   ],
   "source": [
    "ax = free_data.plot(kind='hist',\n",
    "                   y = 'distance',\n",
    "                   bins=25, label = 'free',\n",
    "                   alpha=0.7)\n",
    "ultra_data.plot(kind='hist',\n",
    "                   y = 'distance',\n",
    "                   bins=25, label = 'ultra',\n",
    "               ax = ax, grid=True)\n",
    "plt.xlabel('расстояние, м')\n",
    "plt.ylabel('количество поездок')\n",
    "plt.title('расстояние, которое пользователь преодолел за одну поездку')\n",
    "plt.show()"
   ]
  },
  {
   "cell_type": "markdown",
   "id": "a609548d",
   "metadata": {},
   "source": [
    "Пользователи с подпиской - более узкая категория, они используют самокат для поездок от 2,5 до 3,7 км, реже до 5 км. Стандартное отклонение зафиксировалось на отметке в 837 м против 1246 м для пользователей без подписки. Они (free) используют самокат для большего диапазона расстояний поездки - от 2 до почти 5 км. При этом, средние и медианные значения расстояния у обеих групп приблизительно равны."
   ]
  },
  {
   "cell_type": "markdown",
   "id": "fe122199",
   "metadata": {},
   "source": [
    "Проведем анализ времени использования транспорта обеими категориями пользователей. Для этого так же выведем общие сведения о времени поездки и построим график."
   ]
  },
  {
   "cell_type": "code",
   "execution_count": 41,
   "id": "3ee1826e",
   "metadata": {},
   "outputs": [
    {
     "data": {
      "text/plain": [
       "count    11568.000000\n",
       "mean        17.890992\n",
       "std          6.330250\n",
       "min          1.000000\n",
       "25%         13.000000\n",
       "50%         18.000000\n",
       "75%         22.000000\n",
       "max         35.000000\n",
       "Name: duration, dtype: float64"
      ]
     },
     "execution_count": 41,
     "metadata": {},
     "output_type": "execute_result"
    }
   ],
   "source": [
    "free_data['duration'].describe()"
   ]
  },
  {
   "cell_type": "code",
   "execution_count": 42,
   "id": "daff63e8",
   "metadata": {},
   "outputs": [
    {
     "data": {
      "text/plain": [
       "count    6500.000000\n",
       "mean       19.037692\n",
       "std         5.577439\n",
       "min         4.000000\n",
       "25%        15.000000\n",
       "50%        19.000000\n",
       "75%        22.000000\n",
       "max        41.000000\n",
       "Name: duration, dtype: float64"
      ]
     },
     "execution_count": 42,
     "metadata": {},
     "output_type": "execute_result"
    }
   ],
   "source": [
    "ultra_data['duration'].describe()"
   ]
  },
  {
   "cell_type": "code",
   "execution_count": 43,
   "id": "d6ffd37b",
   "metadata": {},
   "outputs": [
    {
     "data": {
      "image/png": "[encoded data removed]",
      "text/plain": [
       "<Figure size 432x288 with 1 Axes>"
      ]
     },
     "metadata": {
      "needs_background": "light"
     },
     "output_type": "display_data"
    }
   ],
   "source": [
    "ax = free_data.plot(kind='hist',\n",
    "                   y = 'duration',\n",
    "                   bins=25, label = 'free',\n",
    "                   alpha=0.7)\n",
    "ultra_data.plot(kind='hist',\n",
    "                   y = 'duration',\n",
    "                   bins=25, label = 'ultra',\n",
    "               ax = ax, grid=True)\n",
    "plt.xlabel('продолжительность, мин')\n",
    "plt.ylabel('количество поездок')\n",
    "plt.title('продолжительность поездок')\n",
    "plt.show()"
   ]
  },
  {
   "cell_type": "markdown",
   "id": "c63d4428",
   "metadata": {},
   "source": [
    "Так же, как и с расстоянием, мы можем видеть похожее поведение пользователей обеих категорий. Наличие подписки не оказывает особого влияния на продолжительность поездки. Количество пользователей \"free\" больше, просто потому что эта категория, в принципе, немного больше. Но, само распределение на графике продолжительности поездки близко к нормальному для обеих категорий. Средняя и медианная продолжительность разнится в пределах 1 минуты, что не очень существенно и объясняется многими внешними факторами, влияющими на длительность поездки (наличие светофоров на маршруте, пешеходных переходов, специальных выделенных полос и т.п.)"
   ]
  },
  {
   "cell_type": "markdown",
   "id": "402d620f",
   "metadata": {},
   "source": [
    "#### Шаг 5. Подсчёт выручки"
   ]
  },
  {
   "cell_type": "markdown",
   "id": "30f8a850",
   "metadata": {},
   "source": [
    "Создадим датафрейм с агрегированными данными о поездках на основе датафрейма с объединёнными данными из шага 4: найдём суммарное расстояние, количество поездок и суммарное время для каждого пользователя за каждый месяц."
   ]
  },
  {
   "cell_type": "code",
   "execution_count": 44,
   "id": "53049e0a",
   "metadata": {},
   "outputs": [
    {
     "data": {
      "text/html": [
       "<div>\n",
       "<style scoped>\n",
       "    .dataframe tbody tr th:only-of-type {\n",
       "        vertical-align: middle;\n",
       "    }\n",
       "\n",
       "    .dataframe tbody tr th {\n",
       "        vertical-align: top;\n",
       "    }\n",
       "\n",
       "    .dataframe thead tr th {\n",
       "        text-align: left;\n",
       "    }\n",
       "\n",
       "    .dataframe thead tr:last-of-type th {\n",
       "        text-align: right;\n",
       "    }\n",
       "</style>\n",
       "<table border=\"1\" class=\"dataframe\">\n",
       "  <thead>\n",
       "    <tr>\n",
       "      <th></th>\n",
       "      <th></th>\n",
       "      <th colspan=\"2\" halign=\"left\">distance</th>\n",
       "      <th>duration</th>\n",
       "      <th>minute_price</th>\n",
       "      <th>start_ride_price</th>\n",
       "      <th>subscription_fee</th>\n",
       "    </tr>\n",
       "    <tr>\n",
       "      <th></th>\n",
       "      <th></th>\n",
       "      <th>count</th>\n",
       "      <th>sum</th>\n",
       "      <th>sum</th>\n",
       "      <th>mean</th>\n",
       "      <th>mean</th>\n",
       "      <th>mean</th>\n",
       "    </tr>\n",
       "    <tr>\n",
       "      <th>user_id</th>\n",
       "      <th>mounth</th>\n",
       "      <th></th>\n",
       "      <th></th>\n",
       "      <th></th>\n",
       "      <th></th>\n",
       "      <th></th>\n",
       "      <th></th>\n",
       "    </tr>\n",
       "  </thead>\n",
       "  <tbody>\n",
       "    <tr>\n",
       "      <th rowspan=\"5\" valign=\"top\">1</th>\n",
       "      <th>1</th>\n",
       "      <td>2</td>\n",
       "      <td>7027.511294</td>\n",
       "      <td>42.0</td>\n",
       "      <td>6</td>\n",
       "      <td>0</td>\n",
       "      <td>199</td>\n",
       "    </tr>\n",
       "    <tr>\n",
       "      <th>4</th>\n",
       "      <td>1</td>\n",
       "      <td>754.159807</td>\n",
       "      <td>7.0</td>\n",
       "      <td>6</td>\n",
       "      <td>0</td>\n",
       "      <td>199</td>\n",
       "    </tr>\n",
       "    <tr>\n",
       "      <th>8</th>\n",
       "      <td>2</td>\n",
       "      <td>6723.470560</td>\n",
       "      <td>46.0</td>\n",
       "      <td>6</td>\n",
       "      <td>0</td>\n",
       "      <td>199</td>\n",
       "    </tr>\n",
       "    <tr>\n",
       "      <th>10</th>\n",
       "      <td>2</td>\n",
       "      <td>5809.911100</td>\n",
       "      <td>32.0</td>\n",
       "      <td>6</td>\n",
       "      <td>0</td>\n",
       "      <td>199</td>\n",
       "    </tr>\n",
       "    <tr>\n",
       "      <th>11</th>\n",
       "      <td>3</td>\n",
       "      <td>7003.499363</td>\n",
       "      <td>56.0</td>\n",
       "      <td>6</td>\n",
       "      <td>0</td>\n",
       "      <td>199</td>\n",
       "    </tr>\n",
       "    <tr>\n",
       "      <th>...</th>\n",
       "      <th>...</th>\n",
       "      <td>...</td>\n",
       "      <td>...</td>\n",
       "      <td>...</td>\n",
       "      <td>...</td>\n",
       "      <td>...</td>\n",
       "      <td>...</td>\n",
       "    </tr>\n",
       "    <tr>\n",
       "      <th rowspan=\"5\" valign=\"top\">1534</th>\n",
       "      <th>6</th>\n",
       "      <td>2</td>\n",
       "      <td>3409.468534</td>\n",
       "      <td>26.0</td>\n",
       "      <td>8</td>\n",
       "      <td>50</td>\n",
       "      <td>0</td>\n",
       "    </tr>\n",
       "    <tr>\n",
       "      <th>8</th>\n",
       "      <td>2</td>\n",
       "      <td>7622.453034</td>\n",
       "      <td>48.0</td>\n",
       "      <td>8</td>\n",
       "      <td>50</td>\n",
       "      <td>0</td>\n",
       "    </tr>\n",
       "    <tr>\n",
       "      <th>9</th>\n",
       "      <td>1</td>\n",
       "      <td>4928.173852</td>\n",
       "      <td>23.0</td>\n",
       "      <td>8</td>\n",
       "      <td>50</td>\n",
       "      <td>0</td>\n",
       "    </tr>\n",
       "    <tr>\n",
       "      <th>11</th>\n",
       "      <td>4</td>\n",
       "      <td>13350.015305</td>\n",
       "      <td>78.0</td>\n",
       "      <td>8</td>\n",
       "      <td>50</td>\n",
       "      <td>0</td>\n",
       "    </tr>\n",
       "    <tr>\n",
       "      <th>12</th>\n",
       "      <td>1</td>\n",
       "      <td>2371.711192</td>\n",
       "      <td>16.0</td>\n",
       "      <td>8</td>\n",
       "      <td>50</td>\n",
       "      <td>0</td>\n",
       "    </tr>\n",
       "  </tbody>\n",
       "</table>\n",
       "<p>11331 rows × 6 columns</p>\n",
       "</div>"
      ],
      "text/plain": [
       "               distance               duration minute_price start_ride_price  \\\n",
       "                  count           sum      sum         mean             mean   \n",
       "user_id mounth                                                                 \n",
       "1       1             2   7027.511294     42.0            6                0   \n",
       "        4             1    754.159807      7.0            6                0   \n",
       "        8             2   6723.470560     46.0            6                0   \n",
       "        10            2   5809.911100     32.0            6                0   \n",
       "        11            3   7003.499363     56.0            6                0   \n",
       "...                 ...           ...      ...          ...              ...   \n",
       "1534    6             2   3409.468534     26.0            8               50   \n",
       "        8             2   7622.453034     48.0            8               50   \n",
       "        9             1   4928.173852     23.0            8               50   \n",
       "        11            4  13350.015305     78.0            8               50   \n",
       "        12            1   2371.711192     16.0            8               50   \n",
       "\n",
       "               subscription_fee  \n",
       "                           mean  \n",
       "user_id mounth                   \n",
       "1       1                   199  \n",
       "        4                   199  \n",
       "        8                   199  \n",
       "        10                  199  \n",
       "        11                  199  \n",
       "...                         ...  \n",
       "1534    6                     0  \n",
       "        8                     0  \n",
       "        9                     0  \n",
       "        11                    0  \n",
       "        12                    0  \n",
       "\n",
       "[11331 rows x 6 columns]"
      ]
     },
     "execution_count": 44,
     "metadata": {},
     "output_type": "execute_result"
    }
   ],
   "source": [
    "all_data_pivot = all_data.pivot_table(index=('user_id', 'mounth'), values=['distance', 'duration', 'minute_price', \n",
    "                                    'start_ride_price', 'subscription_fee'], \n",
    "                                    aggfunc=({'distance':{'count', 'sum'}, 'duration':'sum',  'minute_price':'mean',\n",
    "                                              'start_ride_price':'mean','subscription_fee':'mean',}))\n",
    "all_data_pivot"
   ]
  },
  {
   "cell_type": "code",
   "execution_count": 45,
   "id": "fc5fbefb",
   "metadata": {},
   "outputs": [
    {
     "data": {
      "text/html": [
       "<div>\n",
       "<style scoped>\n",
       "    .dataframe tbody tr th:only-of-type {\n",
       "        vertical-align: middle;\n",
       "    }\n",
       "\n",
       "    .dataframe tbody tr th {\n",
       "        vertical-align: top;\n",
       "    }\n",
       "\n",
       "    .dataframe thead th {\n",
       "        text-align: right;\n",
       "    }\n",
       "</style>\n",
       "<table border=\"1\" class=\"dataframe\">\n",
       "  <thead>\n",
       "    <tr style=\"text-align: right;\">\n",
       "      <th></th>\n",
       "      <th></th>\n",
       "      <th>count</th>\n",
       "      <th>distance</th>\n",
       "      <th>duration</th>\n",
       "      <th>minute_price</th>\n",
       "      <th>start_ride_price</th>\n",
       "      <th>subscription_fee</th>\n",
       "    </tr>\n",
       "    <tr>\n",
       "      <th>user_id</th>\n",
       "      <th>mounth</th>\n",
       "      <th></th>\n",
       "      <th></th>\n",
       "      <th></th>\n",
       "      <th></th>\n",
       "      <th></th>\n",
       "      <th></th>\n",
       "    </tr>\n",
       "  </thead>\n",
       "  <tbody>\n",
       "    <tr>\n",
       "      <th rowspan=\"6\" valign=\"top\">1</th>\n",
       "      <th>1</th>\n",
       "      <td>2</td>\n",
       "      <td>7027.511294</td>\n",
       "      <td>42.0</td>\n",
       "      <td>6</td>\n",
       "      <td>0</td>\n",
       "      <td>199</td>\n",
       "    </tr>\n",
       "    <tr>\n",
       "      <th>4</th>\n",
       "      <td>1</td>\n",
       "      <td>754.159807</td>\n",
       "      <td>7.0</td>\n",
       "      <td>6</td>\n",
       "      <td>0</td>\n",
       "      <td>199</td>\n",
       "    </tr>\n",
       "    <tr>\n",
       "      <th>8</th>\n",
       "      <td>2</td>\n",
       "      <td>6723.470560</td>\n",
       "      <td>46.0</td>\n",
       "      <td>6</td>\n",
       "      <td>0</td>\n",
       "      <td>199</td>\n",
       "    </tr>\n",
       "    <tr>\n",
       "      <th>10</th>\n",
       "      <td>2</td>\n",
       "      <td>5809.911100</td>\n",
       "      <td>32.0</td>\n",
       "      <td>6</td>\n",
       "      <td>0</td>\n",
       "      <td>199</td>\n",
       "    </tr>\n",
       "    <tr>\n",
       "      <th>11</th>\n",
       "      <td>3</td>\n",
       "      <td>7003.499363</td>\n",
       "      <td>56.0</td>\n",
       "      <td>6</td>\n",
       "      <td>0</td>\n",
       "      <td>199</td>\n",
       "    </tr>\n",
       "    <tr>\n",
       "      <th>12</th>\n",
       "      <td>2</td>\n",
       "      <td>6751.629942</td>\n",
       "      <td>28.0</td>\n",
       "      <td>6</td>\n",
       "      <td>0</td>\n",
       "      <td>199</td>\n",
       "    </tr>\n",
       "    <tr>\n",
       "      <th rowspan=\"4\" valign=\"top\">2</th>\n",
       "      <th>3</th>\n",
       "      <td>3</td>\n",
       "      <td>10187.723006</td>\n",
       "      <td>63.0</td>\n",
       "      <td>6</td>\n",
       "      <td>0</td>\n",
       "      <td>199</td>\n",
       "    </tr>\n",
       "    <tr>\n",
       "      <th>4</th>\n",
       "      <td>2</td>\n",
       "      <td>6164.381824</td>\n",
       "      <td>40.0</td>\n",
       "      <td>6</td>\n",
       "      <td>0</td>\n",
       "      <td>199</td>\n",
       "    </tr>\n",
       "    <tr>\n",
       "      <th>6</th>\n",
       "      <td>1</td>\n",
       "      <td>3255.338202</td>\n",
       "      <td>14.0</td>\n",
       "      <td>6</td>\n",
       "      <td>0</td>\n",
       "      <td>199</td>\n",
       "    </tr>\n",
       "    <tr>\n",
       "      <th>7</th>\n",
       "      <td>2</td>\n",
       "      <td>6780.722964</td>\n",
       "      <td>48.0</td>\n",
       "      <td>6</td>\n",
       "      <td>0</td>\n",
       "      <td>199</td>\n",
       "    </tr>\n",
       "  </tbody>\n",
       "</table>\n",
       "</div>"
      ],
      "text/plain": [
       "                count      distance  duration  minute_price  start_ride_price  \\\n",
       "user_id mounth                                                                  \n",
       "1       1           2   7027.511294      42.0             6                 0   \n",
       "        4           1    754.159807       7.0             6                 0   \n",
       "        8           2   6723.470560      46.0             6                 0   \n",
       "        10          2   5809.911100      32.0             6                 0   \n",
       "        11          3   7003.499363      56.0             6                 0   \n",
       "        12          2   6751.629942      28.0             6                 0   \n",
       "2       3           3  10187.723006      63.0             6                 0   \n",
       "        4           2   6164.381824      40.0             6                 0   \n",
       "        6           1   3255.338202      14.0             6                 0   \n",
       "        7           2   6780.722964      48.0             6                 0   \n",
       "\n",
       "                subscription_fee  \n",
       "user_id mounth                    \n",
       "1       1                    199  \n",
       "        4                    199  \n",
       "        8                    199  \n",
       "        10                   199  \n",
       "        11                   199  \n",
       "        12                   199  \n",
       "2       3                    199  \n",
       "        4                    199  \n",
       "        6                    199  \n",
       "        7                    199  "
      ]
     },
     "execution_count": 45,
     "metadata": {},
     "output_type": "execute_result"
    }
   ],
   "source": [
    "#отредактируем названия столбцов \n",
    "all_data_pivot.columns = ['count', 'distance', 'duration', 'minute_price', 'start_ride_price', 'subscription_fee']\n",
    "all_data_pivot.head(10)"
   ]
  },
  {
   "cell_type": "markdown",
   "id": "85411976",
   "metadata": {},
   "source": [
    "Добавим столбец с помесячной выручкой, которую принёс каждый пользователь. Для этого обратимся к информации об условиях оплаты для подписчиков и тех, у кого нет подписки.   \n",
    "Помесячная выручка считается по формуле: стоимость старта поездки × количество поездок + стоимость одной минуты поездки × общая продолжительность всех поездок в минутах + стоимость подписки."
   ]
  },
  {
   "cell_type": "code",
   "execution_count": 46,
   "id": "3e439a28",
   "metadata": {
    "scrolled": false
   },
   "outputs": [
    {
     "data": {
      "text/html": [
       "<div>\n",
       "<style scoped>\n",
       "    .dataframe tbody tr th:only-of-type {\n",
       "        vertical-align: middle;\n",
       "    }\n",
       "\n",
       "    .dataframe tbody tr th {\n",
       "        vertical-align: top;\n",
       "    }\n",
       "\n",
       "    .dataframe thead th {\n",
       "        text-align: right;\n",
       "    }\n",
       "</style>\n",
       "<table border=\"1\" class=\"dataframe\">\n",
       "  <thead>\n",
       "    <tr style=\"text-align: right;\">\n",
       "      <th></th>\n",
       "      <th></th>\n",
       "      <th>count</th>\n",
       "      <th>distance</th>\n",
       "      <th>duration</th>\n",
       "      <th>minute_price</th>\n",
       "      <th>start_ride_price</th>\n",
       "      <th>subscription_fee</th>\n",
       "      <th>revenue</th>\n",
       "    </tr>\n",
       "    <tr>\n",
       "      <th>user_id</th>\n",
       "      <th>mounth</th>\n",
       "      <th></th>\n",
       "      <th></th>\n",
       "      <th></th>\n",
       "      <th></th>\n",
       "      <th></th>\n",
       "      <th></th>\n",
       "      <th></th>\n",
       "    </tr>\n",
       "  </thead>\n",
       "  <tbody>\n",
       "    <tr>\n",
       "      <th rowspan=\"5\" valign=\"top\">1</th>\n",
       "      <th>1</th>\n",
       "      <td>2</td>\n",
       "      <td>7027.511294</td>\n",
       "      <td>42.0</td>\n",
       "      <td>6</td>\n",
       "      <td>0</td>\n",
       "      <td>199</td>\n",
       "      <td>451.0</td>\n",
       "    </tr>\n",
       "    <tr>\n",
       "      <th>4</th>\n",
       "      <td>1</td>\n",
       "      <td>754.159807</td>\n",
       "      <td>7.0</td>\n",
       "      <td>6</td>\n",
       "      <td>0</td>\n",
       "      <td>199</td>\n",
       "      <td>241.0</td>\n",
       "    </tr>\n",
       "    <tr>\n",
       "      <th>8</th>\n",
       "      <td>2</td>\n",
       "      <td>6723.470560</td>\n",
       "      <td>46.0</td>\n",
       "      <td>6</td>\n",
       "      <td>0</td>\n",
       "      <td>199</td>\n",
       "      <td>475.0</td>\n",
       "    </tr>\n",
       "    <tr>\n",
       "      <th>10</th>\n",
       "      <td>2</td>\n",
       "      <td>5809.911100</td>\n",
       "      <td>32.0</td>\n",
       "      <td>6</td>\n",
       "      <td>0</td>\n",
       "      <td>199</td>\n",
       "      <td>391.0</td>\n",
       "    </tr>\n",
       "    <tr>\n",
       "      <th>11</th>\n",
       "      <td>3</td>\n",
       "      <td>7003.499363</td>\n",
       "      <td>56.0</td>\n",
       "      <td>6</td>\n",
       "      <td>0</td>\n",
       "      <td>199</td>\n",
       "      <td>535.0</td>\n",
       "    </tr>\n",
       "    <tr>\n",
       "      <th>...</th>\n",
       "      <th>...</th>\n",
       "      <td>...</td>\n",
       "      <td>...</td>\n",
       "      <td>...</td>\n",
       "      <td>...</td>\n",
       "      <td>...</td>\n",
       "      <td>...</td>\n",
       "      <td>...</td>\n",
       "    </tr>\n",
       "    <tr>\n",
       "      <th rowspan=\"5\" valign=\"top\">1534</th>\n",
       "      <th>6</th>\n",
       "      <td>2</td>\n",
       "      <td>3409.468534</td>\n",
       "      <td>26.0</td>\n",
       "      <td>8</td>\n",
       "      <td>50</td>\n",
       "      <td>0</td>\n",
       "      <td>308.0</td>\n",
       "    </tr>\n",
       "    <tr>\n",
       "      <th>8</th>\n",
       "      <td>2</td>\n",
       "      <td>7622.453034</td>\n",
       "      <td>48.0</td>\n",
       "      <td>8</td>\n",
       "      <td>50</td>\n",
       "      <td>0</td>\n",
       "      <td>484.0</td>\n",
       "    </tr>\n",
       "    <tr>\n",
       "      <th>9</th>\n",
       "      <td>1</td>\n",
       "      <td>4928.173852</td>\n",
       "      <td>23.0</td>\n",
       "      <td>8</td>\n",
       "      <td>50</td>\n",
       "      <td>0</td>\n",
       "      <td>234.0</td>\n",
       "    </tr>\n",
       "    <tr>\n",
       "      <th>11</th>\n",
       "      <td>4</td>\n",
       "      <td>13350.015305</td>\n",
       "      <td>78.0</td>\n",
       "      <td>8</td>\n",
       "      <td>50</td>\n",
       "      <td>0</td>\n",
       "      <td>824.0</td>\n",
       "    </tr>\n",
       "    <tr>\n",
       "      <th>12</th>\n",
       "      <td>1</td>\n",
       "      <td>2371.711192</td>\n",
       "      <td>16.0</td>\n",
       "      <td>8</td>\n",
       "      <td>50</td>\n",
       "      <td>0</td>\n",
       "      <td>178.0</td>\n",
       "    </tr>\n",
       "  </tbody>\n",
       "</table>\n",
       "<p>11331 rows × 7 columns</p>\n",
       "</div>"
      ],
      "text/plain": [
       "                count      distance  duration  minute_price  start_ride_price  \\\n",
       "user_id mounth                                                                  \n",
       "1       1           2   7027.511294      42.0             6                 0   \n",
       "        4           1    754.159807       7.0             6                 0   \n",
       "        8           2   6723.470560      46.0             6                 0   \n",
       "        10          2   5809.911100      32.0             6                 0   \n",
       "        11          3   7003.499363      56.0             6                 0   \n",
       "...               ...           ...       ...           ...               ...   \n",
       "1534    6           2   3409.468534      26.0             8                50   \n",
       "        8           2   7622.453034      48.0             8                50   \n",
       "        9           1   4928.173852      23.0             8                50   \n",
       "        11          4  13350.015305      78.0             8                50   \n",
       "        12          1   2371.711192      16.0             8                50   \n",
       "\n",
       "                subscription_fee  revenue  \n",
       "user_id mounth                             \n",
       "1       1                    199    451.0  \n",
       "        4                    199    241.0  \n",
       "        8                    199    475.0  \n",
       "        10                   199    391.0  \n",
       "        11                   199    535.0  \n",
       "...                          ...      ...  \n",
       "1534    6                      0    308.0  \n",
       "        8                      0    484.0  \n",
       "        9                      0    234.0  \n",
       "        11                     0    824.0  \n",
       "        12                     0    178.0  \n",
       "\n",
       "[11331 rows x 7 columns]"
      ]
     },
     "execution_count": 46,
     "metadata": {},
     "output_type": "execute_result"
    }
   ],
   "source": [
    "all_data_pivot['revenue'] = (\n",
    "    all_data_pivot['start_ride_price']*all_data_pivot['count'])+(\n",
    "    all_data_pivot['minute_price']*all_data_pivot['duration'])+(\n",
    "    all_data_pivot['subscription_fee'])\n",
    "all_data_pivot"
   ]
  },
  {
   "cell_type": "code",
   "execution_count": 47,
   "id": "cb293548",
   "metadata": {
    "scrolled": true
   },
   "outputs": [
    {
     "data": {
      "text/html": [
       "<div>\n",
       "<style scoped>\n",
       "    .dataframe tbody tr th:only-of-type {\n",
       "        vertical-align: middle;\n",
       "    }\n",
       "\n",
       "    .dataframe tbody tr th {\n",
       "        vertical-align: top;\n",
       "    }\n",
       "\n",
       "    .dataframe thead th {\n",
       "        text-align: right;\n",
       "    }\n",
       "</style>\n",
       "<table border=\"1\" class=\"dataframe\">\n",
       "  <thead>\n",
       "    <tr style=\"text-align: right;\">\n",
       "      <th></th>\n",
       "      <th>revenue</th>\n",
       "    </tr>\n",
       "    <tr>\n",
       "      <th>mounth</th>\n",
       "      <th></th>\n",
       "    </tr>\n",
       "  </thead>\n",
       "  <tbody>\n",
       "    <tr>\n",
       "      <th>1</th>\n",
       "      <td>337958.0</td>\n",
       "    </tr>\n",
       "    <tr>\n",
       "      <th>2</th>\n",
       "      <td>290428.0</td>\n",
       "    </tr>\n",
       "    <tr>\n",
       "      <th>3</th>\n",
       "      <td>329822.0</td>\n",
       "    </tr>\n",
       "    <tr>\n",
       "      <th>4</th>\n",
       "      <td>322916.0</td>\n",
       "    </tr>\n",
       "    <tr>\n",
       "      <th>5</th>\n",
       "      <td>337265.0</td>\n",
       "    </tr>\n",
       "    <tr>\n",
       "      <th>6</th>\n",
       "      <td>335978.0</td>\n",
       "    </tr>\n",
       "    <tr>\n",
       "      <th>7</th>\n",
       "      <td>328504.0</td>\n",
       "    </tr>\n",
       "    <tr>\n",
       "      <th>8</th>\n",
       "      <td>325650.0</td>\n",
       "    </tr>\n",
       "    <tr>\n",
       "      <th>9</th>\n",
       "      <td>323037.0</td>\n",
       "    </tr>\n",
       "    <tr>\n",
       "      <th>10</th>\n",
       "      <td>315360.0</td>\n",
       "    </tr>\n",
       "    <tr>\n",
       "      <th>11</th>\n",
       "      <td>305622.0</td>\n",
       "    </tr>\n",
       "    <tr>\n",
       "      <th>12</th>\n",
       "      <td>326101.0</td>\n",
       "    </tr>\n",
       "  </tbody>\n",
       "</table>\n",
       "</div>"
      ],
      "text/plain": [
       "         revenue\n",
       "mounth          \n",
       "1       337958.0\n",
       "2       290428.0\n",
       "3       329822.0\n",
       "4       322916.0\n",
       "5       337265.0\n",
       "6       335978.0\n",
       "7       328504.0\n",
       "8       325650.0\n",
       "9       323037.0\n",
       "10      315360.0\n",
       "11      305622.0\n",
       "12      326101.0"
      ]
     },
     "execution_count": 47,
     "metadata": {},
     "output_type": "execute_result"
    }
   ],
   "source": [
    "all_revenue = all_data_pivot.pivot_table(index=('mounth'), values='revenue', aggfunc='sum')\n",
    "all_revenue"
   ]
  },
  {
   "cell_type": "markdown",
   "id": "01b16d5b",
   "metadata": {},
   "source": [
    "Отобразим на графике выручку по месяцам:"
   ]
  },
  {
   "cell_type": "code",
   "execution_count": 48,
   "id": "29df00c7",
   "metadata": {},
   "outputs": [
    {
     "data": {
      "image/png": "[encoded data removed]",
      "text/plain": [
       "<Figure size 432x288 with 1 Axes>"
      ]
     },
     "metadata": {
      "needs_background": "light"
     },
     "output_type": "display_data"
    }
   ],
   "source": [
    "all_revenue.plot(kind='bar')\n",
    "plt.title('Выручка по месяцам')\n",
    "plt.show()"
   ]
  },
  {
   "cell_type": "markdown",
   "id": "bd0316cd",
   "metadata": {},
   "source": [
    "Как видно на графике, резких скачков или провалов не наблюдается. Прокат приносит стабильный доход от месяца к месяцу. Возможны небольшие колебания в зависимости от сезона или, возможно, погодных условий."
   ]
  },
  {
   "cell_type": "code",
   "execution_count": 49,
   "id": "fc231820",
   "metadata": {},
   "outputs": [
    {
     "name": "stdout",
     "output_type": "stream",
     "text": [
      "Всего выручка составила: 3878641.0 рублей\n"
     ]
    }
   ],
   "source": [
    "print('Всего выручка составила:', all_data_pivot['revenue'].sum().round(0), 'рублей')"
   ]
  },
  {
   "cell_type": "markdown",
   "id": "41545ac0",
   "metadata": {},
   "source": [
    "#### Шаг 6. Проверка гипотез"
   ]
  },
  {
   "cell_type": "markdown",
   "id": "ce932fcf",
   "metadata": {},
   "source": [
    "6.1. Важно понять, тратят ли пользователи с подпиской больше времени на поездки? Если да, то пользователи с подпиской могут быть «выгоднее» для компании. Проверим гипотезу."
   ]
  },
  {
   "cell_type": "markdown",
   "id": "3105b9be",
   "metadata": {},
   "source": [
    "Выдвинем 2 гипотезы:  \n",
    "Н0: Средняя продолжительность поездок с подпиской ultra и без нее равна  \n",
    "Н1: Средняя продолжительность поездок с подпиской ultra больше продолжительности поездок без подписок (free)"
   ]
  },
  {
   "cell_type": "code",
   "execution_count": 50,
   "id": "f54d4a12",
   "metadata": {},
   "outputs": [
    {
     "name": "stdout",
     "output_type": "stream",
     "text": [
      "p_value: 2.4959453720736625e-34\n",
      "отвергаем нулевую гипотезу Н0\n"
     ]
    }
   ],
   "source": [
    "alpha = 0.05\n",
    "results = st.ttest_ind(ultra_data['duration'], free_data['duration'], alternative='greater')\n",
    "print(f'p_value: {results.pvalue}')\n",
    "if results.pvalue<alpha:\n",
    "    print('отвергаем нулевую гипотезу Н0')\n",
    "else:\n",
    "    print('нет оснований отвергать Н0')"
   ]
  },
  {
   "cell_type": "markdown",
   "id": "fffcfb06",
   "metadata": {},
   "source": [
    "Гипотеза о равенстве продолжительности поездок для пользователей с подпиской и без отвергнута. Есть основания утверждать, что средняя продолжительность поездки с подпиской больше продолжительности поездок без подписки (при установленном уровне значимости в 5 %). При этом, на представленных ранее графиках этого практически не заметно, но, все же, есть небольшое смещение в сторону большей продолжительности."
   ]
  },
  {
   "cell_type": "markdown",
   "id": "12e2ac9d",
   "metadata": {},
   "source": [
    "6.2. Расстояние одной поездки в 3130 метров — оптимальное с точки зрения износа самоката. Можно ли сказать, что среднее расстояние, которое проезжают пользователи с подпиской за одну поездку, не превышает 3130 метров?   \n",
    "Выдвинем гипотезы:  \n",
    "Н0: среднее расстояние, которое проезжают пользователи с подпиской, равно 3130 м (оптимальное с точки зрения износа самоката);  \n",
    "Н1: среднее расстояние, которое проезжают пользователи с подпиской, более 3130 м."
   ]
  },
  {
   "cell_type": "code",
   "execution_count": 51,
   "id": "723ab5c1",
   "metadata": {},
   "outputs": [
    {
     "name": "stdout",
     "output_type": "stream",
     "text": [
      "0.9195368847849785\n",
      "Не получилось отвергнуть нулевую гипотезу\n"
     ]
    }
   ],
   "source": [
    "distance = 3130\n",
    "alpha = 0.05\n",
    "results = st.ttest_1samp(ultra_data['distance'], distance, alternative='greater')\n",
    "\n",
    "print(results.pvalue)\n",
    "\n",
    "if results.pvalue < alpha:\n",
    "    print('Отвергаем нулевую гипотезу')\n",
    "else:\n",
    "    print('Не получилось отвергнуть нулевую гипотезу')"
   ]
  },
  {
   "cell_type": "code",
   "execution_count": 52,
   "id": "ad61e8f5",
   "metadata": {},
   "outputs": [
    {
     "data": {
      "text/plain": [
       "count    6500.000000\n",
       "mean     3115.445388\n",
       "std       836.895330\n",
       "min       244.210438\n",
       "25%      2785.444017\n",
       "50%      3148.637229\n",
       "75%      3560.574425\n",
       "max      5699.769662\n",
       "Name: distance, dtype: float64"
      ]
     },
     "execution_count": 52,
     "metadata": {},
     "output_type": "execute_result"
    }
   ],
   "source": [
    "ultra_data['distance'].describe()"
   ]
  },
  {
   "cell_type": "markdown",
   "id": "c5e5ecc1",
   "metadata": {},
   "source": [
    "Среднее расстояние поездки пользователей с подпиской не превышает оптимальное расстоянием в 3130 метров с точки зрения износа самоката. Подтверждение проведенным ранее исследованиям. Действительно, среднее расстояние, которое проезжают пользователи с подпиской, немного меньше. И это оказывает положительное влияние на износ техники - самокаты не работают \"на износ\"."
   ]
  },
  {
   "cell_type": "markdown",
   "id": "05a6eaef",
   "metadata": {},
   "source": [
    "6.3. Определим, будет ли помесячная выручка от пользователей с подпиской по месяцам выше, чем выручка от пользователей без подписки.  \n",
    "Выдвинем гипотезы:  \n",
    "\n",
    "Н0: месячная средняя выручка от пользователей с подпиской равна месячной средней выручке от пользователей без подписки.  \n",
    "Н1: месячная средняя выручка от пользователей с подпиской больше месячной средней выручки от пользователей без подписки.  \n",
    "\n",
    "Проверим гипотезы, используем данные о выручке с подпиской и без подписки."
   ]
  },
  {
   "cell_type": "code",
   "execution_count": 53,
   "id": "b6066883",
   "metadata": {},
   "outputs": [
    {
     "name": "stdout",
     "output_type": "stream",
     "text": [
      "1.8850394384715216e-31\n",
      "Отвергаем нулевую гипотезу\n"
     ]
    }
   ],
   "source": [
    "results = st.ttest_ind(\n",
    "    all_data_pivot.loc[all_data_pivot['subscription_fee'] > 0, 'revenue'], \n",
    "    all_data_pivot.loc[all_data_pivot['subscription_fee'] == 0, 'revenue'], \n",
    "    equal_var=True, \n",
    "    alternative='greater')\n",
    "print(results.pvalue)\n",
    "\n",
    "alpha = 0.05\n",
    "if results.pvalue < alpha:\n",
    "    print('Отвергаем нулевую гипотезу')\n",
    "else:\n",
    "    print('Не получилось отвергнуть нулевую гипотезу')"
   ]
  },
  {
   "cell_type": "markdown",
   "id": "67bd209d",
   "metadata": {},
   "source": [
    "Нулевая гипотеза отвергнута, есть основания утверждать, что средняя месячная выручка от пользователей с подпиской, больше средней месячной выручки от пользователей без подписки."
   ]
  },
  {
   "cell_type": "markdown",
   "id": "602cc1dd",
   "metadata": {},
   "source": [
    "6.4. Для решения поставленной задачи нужно использовать метод scipy.stats.ttest_rel() - для проверки гипотез парных выборок.\n",
    "Предполагаемые выборки - парные, - это такие выборки, которые претерпели изменения. Некоторая переменная измеряется дважды (количество обращений до обновления и после него) для одних и тех же объектов (пользователь) и выборки имеют одинаковые размеры.  При этом, нужно выдвигать одностороннюю гипотезу, т.к. техподдержку интересует только вопрос \"снизилось ли?\", а не \"изменилось в какую-либо сторону\"."
   ]
  },
  {
   "cell_type": "markdown",
   "id": "9d19f798",
   "metadata": {},
   "source": [
    "#### По итогам проведенного анализа можно сделать следующие выводы:  \n",
    "1. Рассмотрены данные о пользователях сервиса проката самокатов в разных городах России, продолжительность их поездок и порядок пользования сервисом (с подпиской и без).\n",
    "2. В целом, исходные данные максимально качественные, в них отсутствуют пропуски, не корректно заполненные данные. Было обнаружено незначительное количество дублирующих записей о пользователях. Эти данные были удалены без потери качества дальнейшего исследования.  \n",
    "3. Проведен исследовательский анализ.   \n",
    "  3.1. Сервис проката представлен в 8 городах. При этом, пользователи приблизительно одинаково пользуются сервисом в исследуемых городах. Разброс данных незначительный. Наиболее часто в данных встречается г.Пятигорск (более 200 раз), наименьшее число упоминаний о г.Москве (168).  \n",
    "  3.2. Пользователей, оформивших подписку для аренды самокатов, немного меньше, чем пользующихся сервисом без нее (45,6% против 54,4%).\n",
    "  3.3. Средний возраст активных пользователей - 25 лет. Эту же отметку подтверждает и медианное значение сведений о возрасте арендаторов. Так же наблюдается активный интерес пользователей и младше, и более старшего возраста. Распределение пользователей по возрату близко к нормальному.  \n",
    "  3.4. В основном, самокаты арендуют для поездок на расстояние около 3-3,5 км.  \n",
    "  3.5. При этом, продолжительность такой поездки составляет около 18 минут.   \n",
    "4. Изучены поведенческие данные о раастояниях поездок и их продолжительности отдельно для категорий с подпиской и без нее.  \n",
    "Наличие подписки не оказывает особого влияния на продолжительность поездки, следовательно, и на ее расстояние. Средняя и медианная продолжительность разнится в пределах 1 минуты, что не очень существенно и объясняется многими внешними факторами, влияющими на длительность поездки (наличие светофоров на маршруте, пешеходных переходов, специальных выделенных полос и т.п.).  \n",
    "Пользователи с подпиской используют самокат для поездок от 2,5 до 3,7 км, реже до 5 км. Для пользователей без подписки диапазон расстояний поездки - от 2 до почти 5 км. При этом, средние и медианные значения расстояния у обеих групп приблизительно равны.  \n",
    "5. Выдвинуты несколько гипотез.  \n",
    "  5.1. Тратят ли пользователи с подпиской больше времени на поездки? - Гипотеза о равенстве продолжительности поездок для пользователей с подпиской и без отвергнута. Есть основания утверждать, что средняя продолжительность поездки с подпиской больше продолжительности поездок без подписки.  \n",
    "  5.2. Можно ли сказать, что среднее расстояние, которое проезжают пользователи с подпиской за одну поездку, не превышает 3130 метров? - гипотеза не отвергнута. Среднее расстояние поездки пользователей с подпиской не превышает оптимальное расстоянием в 3130 метров с точки зрения износа самоката.  \n",
    "  5.3. Будет ли помесячная выручка от пользователей с подпиской по месяцам выше, чем выручка от пользователей без подписки? -  гипотеза отвергнута, есть основания утверждать, что средняя месячная выручка от пользователей с подпиской, больше средней месячной выручки от пользователей без подписки.  \n",
    "  Следовательно, на основании проведенного анализа, считаю, что пользователи с оформленной подпиской ultra приносят бизнесу большую выручку, нежели вторая категория (free)."
   ]
  }
 ],
 "metadata": {
  "ExecuteTimeLog": [
   {
    "duration": 43,
    "start_time": "2024-03-17T16:46:23.898Z"
   },
   {
    "duration": 392,
    "start_time": "2024-03-17T16:46:27.432Z"
   },
   {
    "duration": 25,
    "start_time": "2024-03-17T16:46:28.755Z"
   },
   {
    "duration": 7,
    "start_time": "2024-03-17T16:46:41.315Z"
   },
   {
    "duration": 834,
    "start_time": "2024-03-17T16:47:54.830Z"
   },
   {
    "duration": 643,
    "start_time": "2024-03-17T16:48:30.700Z"
   },
   {
    "duration": 1125,
    "start_time": "2024-03-17T16:50:51.370Z"
   },
   {
    "duration": 766,
    "start_time": "2024-03-17T16:53:06.804Z"
   },
   {
    "duration": 972,
    "start_time": "2024-03-17T16:53:51.951Z"
   },
   {
    "duration": 68,
    "start_time": "2024-03-17T17:17:02.765Z"
   },
   {
    "duration": 66,
    "start_time": "2024-03-17T17:17:30.147Z"
   },
   {
    "duration": 69,
    "start_time": "2024-03-17T17:21:02.904Z"
   },
   {
    "duration": 7,
    "start_time": "2024-03-17T17:21:56.172Z"
   },
   {
    "duration": 11,
    "start_time": "2024-03-17T17:22:15.298Z"
   },
   {
    "duration": 15,
    "start_time": "2024-03-17T17:25:40.342Z"
   },
   {
    "duration": 6,
    "start_time": "2024-03-17T17:27:36.216Z"
   },
   {
    "duration": 11,
    "start_time": "2024-03-17T17:28:51.662Z"
   },
   {
    "duration": 15,
    "start_time": "2024-03-17T17:54:05.843Z"
   },
   {
    "duration": 6,
    "start_time": "2024-03-17T17:57:08.109Z"
   },
   {
    "duration": 6,
    "start_time": "2024-03-17T17:57:19.787Z"
   },
   {
    "duration": 8,
    "start_time": "2024-03-17T17:57:42.026Z"
   },
   {
    "duration": 429,
    "start_time": "2024-03-17T17:58:08.097Z"
   },
   {
    "duration": 874,
    "start_time": "2024-03-17T17:58:08.529Z"
   },
   {
    "duration": 1335,
    "start_time": "2024-03-17T17:58:09.405Z"
   },
   {
    "duration": 829,
    "start_time": "2024-03-17T17:58:10.742Z"
   },
   {
    "duration": 7,
    "start_time": "2024-03-17T17:58:11.572Z"
   },
   {
    "duration": 13,
    "start_time": "2024-03-17T17:58:11.581Z"
   },
   {
    "duration": 19,
    "start_time": "2024-03-17T17:58:11.595Z"
   },
   {
    "duration": 7,
    "start_time": "2024-03-17T17:58:11.616Z"
   },
   {
    "duration": 5,
    "start_time": "2024-03-17T17:58:11.625Z"
   },
   {
    "duration": 11,
    "start_time": "2024-03-17T17:58:11.632Z"
   },
   {
    "duration": 15,
    "start_time": "2024-03-17T17:58:11.645Z"
   },
   {
    "duration": 11,
    "start_time": "2024-03-17T17:59:34.079Z"
   },
   {
    "duration": 12,
    "start_time": "2024-03-17T18:00:16.134Z"
   },
   {
    "duration": 8,
    "start_time": "2024-03-17T18:00:25.151Z"
   },
   {
    "duration": 6,
    "start_time": "2024-03-17T18:00:47.018Z"
   },
   {
    "duration": 99,
    "start_time": "2024-03-17T18:21:04.360Z"
   },
   {
    "duration": 5,
    "start_time": "2024-03-17T18:21:33.958Z"
   },
   {
    "duration": 629,
    "start_time": "2024-03-17T18:22:50.229Z"
   },
   {
    "duration": 157,
    "start_time": "2024-03-17T18:24:41.733Z"
   },
   {
    "duration": 5,
    "start_time": "2024-03-17T18:25:15.407Z"
   },
   {
    "duration": 15,
    "start_time": "2024-03-17T18:28:45.263Z"
   },
   {
    "duration": 20,
    "start_time": "2024-03-17T18:29:41.951Z"
   },
   {
    "duration": 23,
    "start_time": "2024-03-17T18:29:47.543Z"
   },
   {
    "duration": 21,
    "start_time": "2024-03-17T18:30:48.560Z"
   },
   {
    "duration": 19,
    "start_time": "2024-03-17T18:31:04.061Z"
   },
   {
    "duration": 16,
    "start_time": "2024-03-17T18:33:18.867Z"
   },
   {
    "duration": 161,
    "start_time": "2024-03-17T18:34:36.391Z"
   },
   {
    "duration": 6,
    "start_time": "2024-03-17T18:34:58.600Z"
   },
   {
    "duration": 212,
    "start_time": "2024-03-17T18:35:11.674Z"
   },
   {
    "duration": 7,
    "start_time": "2024-03-17T18:35:37.942Z"
   },
   {
    "duration": 204,
    "start_time": "2024-03-17T18:35:54.286Z"
   },
   {
    "duration": 19,
    "start_time": "2024-03-17T18:36:23.948Z"
   },
   {
    "duration": 15,
    "start_time": "2024-03-17T18:36:34.269Z"
   },
   {
    "duration": 165,
    "start_time": "2024-03-17T18:37:35.099Z"
   },
   {
    "duration": 8,
    "start_time": "2024-03-17T18:38:01.062Z"
   },
   {
    "duration": 175,
    "start_time": "2024-03-17T18:38:33.225Z"
   },
   {
    "duration": 186,
    "start_time": "2024-03-17T18:39:31.828Z"
   },
   {
    "duration": 122,
    "start_time": "2024-03-17T18:39:43.678Z"
   },
   {
    "duration": 179,
    "start_time": "2024-03-17T18:39:52.391Z"
   },
   {
    "duration": 179,
    "start_time": "2024-03-17T18:41:15.477Z"
   },
   {
    "duration": 201,
    "start_time": "2024-03-17T18:42:25.293Z"
   },
   {
    "duration": 6,
    "start_time": "2024-03-17T18:43:35.868Z"
   },
   {
    "duration": 775,
    "start_time": "2024-03-17T18:43:37.878Z"
   },
   {
    "duration": 1195,
    "start_time": "2024-03-17T18:43:39.694Z"
   },
   {
    "duration": 864,
    "start_time": "2024-03-17T18:43:40.890Z"
   },
   {
    "duration": 10,
    "start_time": "2024-03-17T18:43:42.861Z"
   },
   {
    "duration": 17,
    "start_time": "2024-03-17T18:43:43.707Z"
   },
   {
    "duration": 29,
    "start_time": "2024-03-17T18:43:44.311Z"
   },
   {
    "duration": 24,
    "start_time": "2024-03-17T18:43:44.921Z"
   },
   {
    "duration": 4,
    "start_time": "2024-03-17T18:43:45.877Z"
   },
   {
    "duration": 20,
    "start_time": "2024-03-17T18:43:46.233Z"
   },
   {
    "duration": 16,
    "start_time": "2024-03-17T18:43:46.943Z"
   },
   {
    "duration": 8,
    "start_time": "2024-03-17T18:43:47.162Z"
   },
   {
    "duration": 8,
    "start_time": "2024-03-17T18:43:47.772Z"
   },
   {
    "duration": 21,
    "start_time": "2024-03-17T18:43:49.239Z"
   },
   {
    "duration": 185,
    "start_time": "2024-03-17T18:43:54.279Z"
   },
   {
    "duration": 199,
    "start_time": "2024-03-17T18:44:21.374Z"
   },
   {
    "duration": 11,
    "start_time": "2024-03-17T18:46:20.765Z"
   },
   {
    "duration": 13,
    "start_time": "2024-03-17T18:46:28.085Z"
   },
   {
    "duration": 225,
    "start_time": "2024-03-17T18:47:01.599Z"
   },
   {
    "duration": 146,
    "start_time": "2024-03-17T18:47:24.048Z"
   },
   {
    "duration": 713,
    "start_time": "2024-03-17T18:48:51.795Z"
   },
   {
    "duration": 955,
    "start_time": "2024-03-17T18:48:52.510Z"
   },
   {
    "duration": 1398,
    "start_time": "2024-03-17T18:48:53.467Z"
   },
   {
    "duration": 688,
    "start_time": "2024-03-17T18:48:54.867Z"
   },
   {
    "duration": 7,
    "start_time": "2024-03-17T18:48:55.562Z"
   },
   {
    "duration": 11,
    "start_time": "2024-03-17T18:48:55.570Z"
   },
   {
    "duration": 14,
    "start_time": "2024-03-17T18:48:55.582Z"
   },
   {
    "duration": 11,
    "start_time": "2024-03-17T18:48:55.597Z"
   },
   {
    "duration": 11,
    "start_time": "2024-03-17T18:48:55.610Z"
   },
   {
    "duration": 33,
    "start_time": "2024-03-17T18:48:55.624Z"
   },
   {
    "duration": 9,
    "start_time": "2024-03-17T18:48:55.661Z"
   },
   {
    "duration": 12,
    "start_time": "2024-03-17T18:48:55.671Z"
   },
   {
    "duration": 6,
    "start_time": "2024-03-17T18:48:55.687Z"
   },
   {
    "duration": 6,
    "start_time": "2024-03-17T18:48:55.694Z"
   },
   {
    "duration": 182,
    "start_time": "2024-03-17T18:48:55.702Z"
   },
   {
    "duration": 614,
    "start_time": "2024-03-17T18:49:39.674Z"
   },
   {
    "duration": 645,
    "start_time": "2024-03-17T18:50:06.533Z"
   },
   {
    "duration": 10,
    "start_time": "2024-03-17T18:51:03.003Z"
   },
   {
    "duration": 25,
    "start_time": "2024-03-17T18:51:07.525Z"
   },
   {
    "duration": 15,
    "start_time": "2024-03-17T18:51:12.010Z"
   },
   {
    "duration": 759,
    "start_time": "2024-03-17T18:51:17.973Z"
   },
   {
    "duration": 652,
    "start_time": "2024-03-17T18:51:18.734Z"
   },
   {
    "duration": 973,
    "start_time": "2024-03-17T18:51:19.388Z"
   },
   {
    "duration": 619,
    "start_time": "2024-03-17T18:51:20.364Z"
   },
   {
    "duration": 11,
    "start_time": "2024-03-17T18:51:20.985Z"
   },
   {
    "duration": 7,
    "start_time": "2024-03-17T18:51:20.998Z"
   },
   {
    "duration": 25,
    "start_time": "2024-03-17T18:51:21.006Z"
   },
   {
    "duration": 23,
    "start_time": "2024-03-17T18:51:21.033Z"
   },
   {
    "duration": 6,
    "start_time": "2024-03-17T18:51:21.060Z"
   },
   {
    "duration": 19,
    "start_time": "2024-03-17T18:51:21.068Z"
   },
   {
    "duration": 8,
    "start_time": "2024-03-17T18:51:21.089Z"
   },
   {
    "duration": 8,
    "start_time": "2024-03-17T18:51:21.099Z"
   },
   {
    "duration": 23,
    "start_time": "2024-03-17T18:51:21.108Z"
   },
   {
    "duration": 8,
    "start_time": "2024-03-17T18:51:21.138Z"
   },
   {
    "duration": 6,
    "start_time": "2024-03-17T18:51:21.150Z"
   },
   {
    "duration": 165,
    "start_time": "2024-03-17T18:51:21.158Z"
   },
   {
    "duration": 771,
    "start_time": "2024-03-17T18:57:51.920Z"
   },
   {
    "duration": 1313,
    "start_time": "2024-03-17T18:58:16.652Z"
   },
   {
    "duration": 903,
    "start_time": "2024-03-17T18:58:28.655Z"
   },
   {
    "duration": 86,
    "start_time": "2024-03-17T19:00:55.529Z"
   },
   {
    "duration": 673,
    "start_time": "2024-03-17T19:01:02.584Z"
   },
   {
    "duration": 691,
    "start_time": "2024-03-17T19:01:03.259Z"
   },
   {
    "duration": 1072,
    "start_time": "2024-03-17T19:01:03.952Z"
   },
   {
    "duration": 670,
    "start_time": "2024-03-17T19:01:05.026Z"
   },
   {
    "duration": 9,
    "start_time": "2024-03-17T19:01:05.698Z"
   },
   {
    "duration": 24,
    "start_time": "2024-03-17T19:01:05.709Z"
   },
   {
    "duration": 18,
    "start_time": "2024-03-17T19:01:05.735Z"
   },
   {
    "duration": 6,
    "start_time": "2024-03-17T19:01:05.754Z"
   },
   {
    "duration": 13,
    "start_time": "2024-03-17T19:01:05.762Z"
   },
   {
    "duration": 8,
    "start_time": "2024-03-17T19:01:05.777Z"
   },
   {
    "duration": 12,
    "start_time": "2024-03-17T19:01:05.787Z"
   },
   {
    "duration": 8,
    "start_time": "2024-03-17T19:01:05.801Z"
   },
   {
    "duration": 6,
    "start_time": "2024-03-17T19:01:05.819Z"
   },
   {
    "duration": 14,
    "start_time": "2024-03-17T19:01:05.826Z"
   },
   {
    "duration": 23,
    "start_time": "2024-03-17T19:01:05.842Z"
   },
   {
    "duration": 164,
    "start_time": "2024-03-17T19:01:05.867Z"
   },
   {
    "duration": 380,
    "start_time": "2024-03-17T19:04:32.458Z"
   },
   {
    "duration": 7,
    "start_time": "2024-03-17T19:06:42.088Z"
   },
   {
    "duration": 1061,
    "start_time": "2024-03-17T19:06:55.399Z"
   },
   {
    "duration": 15,
    "start_time": "2024-03-17T19:07:14.386Z"
   },
   {
    "duration": 147,
    "start_time": "2024-03-17T19:07:56.699Z"
   },
   {
    "duration": 12,
    "start_time": "2024-03-17T19:08:16.678Z"
   },
   {
    "duration": 148,
    "start_time": "2024-03-17T19:09:03.004Z"
   },
   {
    "duration": 247,
    "start_time": "2024-03-17T19:09:59.529Z"
   },
   {
    "duration": 166,
    "start_time": "2024-03-17T19:10:23.919Z"
   },
   {
    "duration": 243,
    "start_time": "2024-03-17T19:11:23.025Z"
   },
   {
    "duration": 169,
    "start_time": "2024-03-17T19:11:47.913Z"
   },
   {
    "duration": 167,
    "start_time": "2024-03-17T19:12:47.924Z"
   },
   {
    "duration": 155,
    "start_time": "2024-03-17T19:13:16.418Z"
   },
   {
    "duration": 7,
    "start_time": "2024-03-17T19:20:36.376Z"
   },
   {
    "duration": 141,
    "start_time": "2024-03-17T19:21:35.079Z"
   },
   {
    "duration": 171,
    "start_time": "2024-03-17T19:21:46.515Z"
   },
   {
    "duration": 134,
    "start_time": "2024-03-17T19:21:56.330Z"
   },
   {
    "duration": 149,
    "start_time": "2024-03-17T19:22:06.231Z"
   },
   {
    "duration": 12,
    "start_time": "2024-03-17T19:22:41.948Z"
   },
   {
    "duration": 7,
    "start_time": "2024-03-17T19:22:49.797Z"
   },
   {
    "duration": 10,
    "start_time": "2024-03-17T19:24:55.433Z"
   },
   {
    "duration": 154,
    "start_time": "2024-03-17T19:25:20.625Z"
   },
   {
    "duration": 26,
    "start_time": "2024-03-17T19:27:24.637Z"
   },
   {
    "duration": 219,
    "start_time": "2024-03-17T19:28:10.879Z"
   },
   {
    "duration": 167,
    "start_time": "2024-03-17T19:28:33.404Z"
   },
   {
    "duration": 199,
    "start_time": "2024-03-17T19:29:53.230Z"
   },
   {
    "duration": 152,
    "start_time": "2024-03-17T19:30:50.647Z"
   },
   {
    "duration": 177,
    "start_time": "2024-03-17T19:31:34.961Z"
   },
   {
    "duration": 9,
    "start_time": "2024-03-17T19:33:00.471Z"
   },
   {
    "duration": 155,
    "start_time": "2024-03-17T19:33:36.375Z"
   },
   {
    "duration": 152,
    "start_time": "2024-03-17T19:33:57.018Z"
   },
   {
    "duration": 10,
    "start_time": "2024-03-17T19:42:16.281Z"
   },
   {
    "duration": 30,
    "start_time": "2024-03-17T19:46:44.571Z"
   },
   {
    "duration": 17,
    "start_time": "2024-03-17T19:49:28.831Z"
   },
   {
    "duration": 19,
    "start_time": "2024-03-17T19:50:02.018Z"
   },
   {
    "duration": 10,
    "start_time": "2024-03-17T19:50:14.036Z"
   },
   {
    "duration": 21,
    "start_time": "2024-03-17T19:50:30.490Z"
   },
   {
    "duration": 27,
    "start_time": "2024-03-17T19:50:42.615Z"
   },
   {
    "duration": 10,
    "start_time": "2024-03-17T19:51:21.691Z"
   },
   {
    "duration": 31,
    "start_time": "2024-03-17T19:51:31.010Z"
   },
   {
    "duration": 8,
    "start_time": "2024-03-17T19:54:19.302Z"
   },
   {
    "duration": 8,
    "start_time": "2024-03-17T19:54:33.935Z"
   },
   {
    "duration": 31,
    "start_time": "2024-03-17T19:54:49.112Z"
   },
   {
    "duration": 28,
    "start_time": "2024-03-17T19:56:38.601Z"
   },
   {
    "duration": 18,
    "start_time": "2024-03-17T19:57:02.096Z"
   },
   {
    "duration": 16,
    "start_time": "2024-03-17T19:58:09.036Z"
   },
   {
    "duration": 15,
    "start_time": "2024-03-17T19:58:42.663Z"
   },
   {
    "duration": 11,
    "start_time": "2024-03-17T19:59:18.561Z"
   },
   {
    "duration": 17,
    "start_time": "2024-03-17T19:59:58.606Z"
   },
   {
    "duration": 14,
    "start_time": "2024-03-17T20:00:02.772Z"
   },
   {
    "duration": 4,
    "start_time": "2024-03-17T20:00:20.594Z"
   },
   {
    "duration": 4,
    "start_time": "2024-03-17T20:00:30.626Z"
   },
   {
    "duration": 3,
    "start_time": "2024-03-17T20:01:02.205Z"
   },
   {
    "duration": 74,
    "start_time": "2024-03-18T18:28:16.886Z"
   },
   {
    "duration": 50,
    "start_time": "2024-03-18T18:31:25.152Z"
   },
   {
    "duration": 1030,
    "start_time": "2024-03-18T18:31:50.317Z"
   },
   {
    "duration": 1215,
    "start_time": "2024-03-18T18:31:51.349Z"
   },
   {
    "duration": 1724,
    "start_time": "2024-03-18T18:31:52.566Z"
   },
   {
    "duration": 879,
    "start_time": "2024-03-18T18:31:54.292Z"
   },
   {
    "duration": 13,
    "start_time": "2024-03-18T18:31:55.173Z"
   },
   {
    "duration": 7,
    "start_time": "2024-03-18T18:31:55.187Z"
   },
   {
    "duration": 5,
    "start_time": "2024-03-18T18:31:55.195Z"
   },
   {
    "duration": 7,
    "start_time": "2024-03-18T18:31:55.202Z"
   },
   {
    "duration": 7,
    "start_time": "2024-03-18T18:31:55.210Z"
   },
   {
    "duration": 29,
    "start_time": "2024-03-18T18:31:55.221Z"
   },
   {
    "duration": 12,
    "start_time": "2024-03-18T18:31:55.255Z"
   },
   {
    "duration": 12,
    "start_time": "2024-03-18T18:31:55.268Z"
   },
   {
    "duration": 8,
    "start_time": "2024-03-18T18:31:55.282Z"
   },
   {
    "duration": 5,
    "start_time": "2024-03-18T18:31:55.292Z"
   },
   {
    "duration": 49,
    "start_time": "2024-03-18T18:31:55.299Z"
   },
   {
    "duration": 12,
    "start_time": "2024-03-18T18:31:55.354Z"
   },
   {
    "duration": 6,
    "start_time": "2024-03-18T18:31:55.368Z"
   },
   {
    "duration": 205,
    "start_time": "2024-03-18T18:31:55.376Z"
   },
   {
    "duration": 190,
    "start_time": "2024-03-18T18:31:55.583Z"
   },
   {
    "duration": 9,
    "start_time": "2024-03-18T18:31:55.776Z"
   },
   {
    "duration": 219,
    "start_time": "2024-03-18T18:31:55.787Z"
   },
   {
    "duration": 22,
    "start_time": "2024-03-18T18:31:56.008Z"
   },
   {
    "duration": 252,
    "start_time": "2024-03-18T18:31:56.032Z"
   },
   {
    "duration": 241,
    "start_time": "2024-03-18T18:31:56.286Z"
   },
   {
    "duration": 11,
    "start_time": "2024-03-18T18:31:56.532Z"
   },
   {
    "duration": 220,
    "start_time": "2024-03-18T18:31:56.545Z"
   },
   {
    "duration": 28,
    "start_time": "2024-03-18T18:31:56.767Z"
   },
   {
    "duration": 56,
    "start_time": "2024-03-18T18:31:56.800Z"
   },
   {
    "duration": 19,
    "start_time": "2024-03-18T18:31:56.858Z"
   },
   {
    "duration": 4,
    "start_time": "2024-03-18T18:31:56.879Z"
   },
   {
    "duration": 26,
    "start_time": "2024-03-18T18:31:56.884Z"
   },
   {
    "duration": 27,
    "start_time": "2024-03-18T18:31:56.911Z"
   },
   {
    "duration": 10,
    "start_time": "2024-03-18T19:34:50.807Z"
   },
   {
    "duration": 12,
    "start_time": "2024-03-18T19:36:48.116Z"
   },
   {
    "duration": 242,
    "start_time": "2024-03-18T19:40:27.717Z"
   },
   {
    "duration": 250,
    "start_time": "2024-03-18T19:41:06.611Z"
   },
   {
    "duration": 263,
    "start_time": "2024-03-18T19:42:51.343Z"
   },
   {
    "duration": 9,
    "start_time": "2024-03-18T19:50:47.209Z"
   },
   {
    "duration": 8,
    "start_time": "2024-03-18T19:51:07.961Z"
   },
   {
    "duration": 258,
    "start_time": "2024-03-18T19:52:08.542Z"
   },
   {
    "duration": 19,
    "start_time": "2024-03-18T20:08:44.559Z"
   },
   {
    "duration": 46,
    "start_time": "2024-03-18T20:08:57.221Z"
   },
   {
    "duration": 101,
    "start_time": "2024-03-18T20:26:56.275Z"
   },
   {
    "duration": 69,
    "start_time": "2024-03-18T20:27:04.313Z"
   },
   {
    "duration": 94,
    "start_time": "2024-03-18T20:27:17.087Z"
   },
   {
    "duration": 75,
    "start_time": "2024-03-18T20:27:39.638Z"
   },
   {
    "duration": 116,
    "start_time": "2024-03-18T20:28:03.987Z"
   },
   {
    "duration": 14,
    "start_time": "2024-03-18T20:30:54.484Z"
   },
   {
    "duration": 13,
    "start_time": "2024-03-18T20:31:17.045Z"
   },
   {
    "duration": 9,
    "start_time": "2024-03-18T20:35:11.891Z"
   },
   {
    "duration": 4,
    "start_time": "2024-03-18T20:40:23.003Z"
   },
   {
    "duration": 4,
    "start_time": "2024-03-18T20:41:06.998Z"
   },
   {
    "duration": 10,
    "start_time": "2024-03-18T20:41:26.279Z"
   },
   {
    "duration": 90,
    "start_time": "2024-03-18T20:53:17.271Z"
   },
   {
    "duration": 14,
    "start_time": "2024-03-18T20:54:59.906Z"
   },
   {
    "duration": 15,
    "start_time": "2024-03-18T20:56:24.837Z"
   },
   {
    "duration": 9,
    "start_time": "2024-03-18T20:57:13.903Z"
   },
   {
    "duration": 53,
    "start_time": "2024-03-18T21:00:58.788Z"
   },
   {
    "duration": 11,
    "start_time": "2024-03-18T21:01:54.050Z"
   },
   {
    "duration": 66,
    "start_time": "2024-03-18T21:04:53.781Z"
   },
   {
    "duration": 68,
    "start_time": "2024-03-18T21:05:31.934Z"
   },
   {
    "duration": 67,
    "start_time": "2024-03-18T21:05:48.739Z"
   },
   {
    "duration": 6,
    "start_time": "2024-03-18T21:06:05.919Z"
   },
   {
    "duration": 24,
    "start_time": "2024-03-18T21:06:19.078Z"
   },
   {
    "duration": 5,
    "start_time": "2024-03-18T21:08:59.782Z"
   },
   {
    "duration": 4,
    "start_time": "2024-03-18T21:09:13.614Z"
   },
   {
    "duration": 72,
    "start_time": "2024-03-18T21:10:08.538Z"
   },
   {
    "duration": 4,
    "start_time": "2024-03-18T21:10:26.563Z"
   },
   {
    "duration": 4,
    "start_time": "2024-03-18T21:10:35.738Z"
   },
   {
    "duration": 3,
    "start_time": "2024-03-18T21:10:52.773Z"
   },
   {
    "duration": 12,
    "start_time": "2024-03-18T21:14:08.766Z"
   },
   {
    "duration": 107,
    "start_time": "2024-03-18T21:14:46.237Z"
   },
   {
    "duration": 15,
    "start_time": "2024-03-18T21:15:30.349Z"
   },
   {
    "duration": 14,
    "start_time": "2024-03-18T21:15:39.534Z"
   },
   {
    "duration": 181,
    "start_time": "2024-03-18T21:17:46.320Z"
   },
   {
    "duration": 178,
    "start_time": "2024-03-18T21:18:35.118Z"
   },
   {
    "duration": 5,
    "start_time": "2024-03-18T21:21:08.081Z"
   },
   {
    "duration": 401,
    "start_time": "2024-03-18T21:32:58.740Z"
   },
   {
    "duration": 6,
    "start_time": "2024-03-18T21:39:57.316Z"
   },
   {
    "duration": 5,
    "start_time": "2024-03-18T21:41:18.531Z"
   },
   {
    "duration": 37,
    "start_time": "2024-03-18T21:50:32.037Z"
   },
   {
    "duration": 6,
    "start_time": "2024-03-18T21:50:59.282Z"
   },
   {
    "duration": 9,
    "start_time": "2024-03-18T21:52:11.194Z"
   },
   {
    "duration": 6,
    "start_time": "2024-03-18T21:59:57.116Z"
   },
   {
    "duration": 1482,
    "start_time": "2024-03-18T22:01:30.554Z"
   },
   {
    "duration": 9,
    "start_time": "2024-03-18T22:02:25.074Z"
   },
   {
    "duration": 1187,
    "start_time": "2024-03-18T22:10:08.028Z"
   },
   {
    "duration": 952,
    "start_time": "2024-03-18T22:10:09.217Z"
   },
   {
    "duration": 1661,
    "start_time": "2024-03-18T22:10:10.171Z"
   },
   {
    "duration": 965,
    "start_time": "2024-03-18T22:10:11.834Z"
   },
   {
    "duration": 12,
    "start_time": "2024-03-18T22:10:12.800Z"
   },
   {
    "duration": 7,
    "start_time": "2024-03-18T22:10:12.813Z"
   },
   {
    "duration": 5,
    "start_time": "2024-03-18T22:10:12.822Z"
   },
   {
    "duration": 6,
    "start_time": "2024-03-18T22:10:12.828Z"
   },
   {
    "duration": 9,
    "start_time": "2024-03-18T22:10:12.835Z"
   },
   {
    "duration": 10,
    "start_time": "2024-03-18T22:10:12.847Z"
   },
   {
    "duration": 7,
    "start_time": "2024-03-18T22:10:12.859Z"
   },
   {
    "duration": 10,
    "start_time": "2024-03-18T22:10:12.867Z"
   },
   {
    "duration": 7,
    "start_time": "2024-03-18T22:10:12.878Z"
   },
   {
    "duration": 39,
    "start_time": "2024-03-18T22:10:12.886Z"
   },
   {
    "duration": 17,
    "start_time": "2024-03-18T22:10:12.926Z"
   },
   {
    "duration": 9,
    "start_time": "2024-03-18T22:10:12.944Z"
   },
   {
    "duration": 9,
    "start_time": "2024-03-18T22:10:12.955Z"
   },
   {
    "duration": 38,
    "start_time": "2024-03-18T22:10:12.966Z"
   },
   {
    "duration": 176,
    "start_time": "2024-03-18T22:10:13.005Z"
   },
   {
    "duration": 157,
    "start_time": "2024-03-18T22:10:13.183Z"
   },
   {
    "duration": 8,
    "start_time": "2024-03-18T22:10:13.341Z"
   },
   {
    "duration": 226,
    "start_time": "2024-03-18T22:10:13.350Z"
   },
   {
    "duration": 9,
    "start_time": "2024-03-18T22:10:13.577Z"
   },
   {
    "duration": 171,
    "start_time": "2024-03-18T22:10:13.587Z"
   },
   {
    "duration": 171,
    "start_time": "2024-03-18T22:10:13.760Z"
   },
   {
    "duration": 11,
    "start_time": "2024-03-18T22:10:13.933Z"
   },
   {
    "duration": 179,
    "start_time": "2024-03-18T22:10:13.946Z"
   },
   {
    "duration": 28,
    "start_time": "2024-03-18T22:10:14.128Z"
   },
   {
    "duration": 31,
    "start_time": "2024-03-18T22:10:14.158Z"
   },
   {
    "duration": 41,
    "start_time": "2024-03-18T22:10:14.190Z"
   },
   {
    "duration": 4,
    "start_time": "2024-03-18T22:10:14.233Z"
   },
   {
    "duration": 35,
    "start_time": "2024-03-18T22:10:14.239Z"
   },
   {
    "duration": 10,
    "start_time": "2024-03-18T22:10:14.276Z"
   },
   {
    "duration": 15,
    "start_time": "2024-03-18T22:10:14.288Z"
   },
   {
    "duration": 8,
    "start_time": "2024-03-18T22:10:14.304Z"
   },
   {
    "duration": 245,
    "start_time": "2024-03-18T22:10:14.313Z"
   },
   {
    "duration": 8,
    "start_time": "2024-03-18T22:10:14.560Z"
   },
   {
    "duration": 39,
    "start_time": "2024-03-18T22:10:14.569Z"
   },
   {
    "duration": 350,
    "start_time": "2024-03-18T22:10:14.610Z"
   },
   {
    "duration": 62,
    "start_time": "2024-03-18T22:10:14.962Z"
   },
   {
    "duration": 11,
    "start_time": "2024-03-18T22:10:15.026Z"
   },
   {
    "duration": 97,
    "start_time": "2024-03-18T22:10:15.039Z"
   },
   {
    "duration": 143,
    "start_time": "2024-03-18T22:10:15.138Z"
   },
   {
    "duration": 185,
    "start_time": "2024-03-18T22:10:15.283Z"
   },
   {
    "duration": 6,
    "start_time": "2024-03-18T22:10:15.470Z"
   },
   {
    "duration": 25,
    "start_time": "2024-03-18T22:10:15.478Z"
   },
   {
    "duration": 8,
    "start_time": "2024-03-18T22:10:15.505Z"
   },
   {
    "duration": 29,
    "start_time": "2024-03-18T22:10:15.514Z"
   },
   {
    "duration": 9,
    "start_time": "2024-03-18T22:10:15.545Z"
   },
   {
    "duration": 1154,
    "start_time": "2024-03-18T22:26:25.550Z"
   },
   {
    "duration": 875,
    "start_time": "2024-03-18T22:26:26.706Z"
   },
   {
    "duration": 1445,
    "start_time": "2024-03-18T22:26:27.583Z"
   },
   {
    "duration": 888,
    "start_time": "2024-03-18T22:26:29.030Z"
   },
   {
    "duration": 12,
    "start_time": "2024-03-18T22:26:29.919Z"
   },
   {
    "duration": 19,
    "start_time": "2024-03-18T22:26:29.933Z"
   },
   {
    "duration": 8,
    "start_time": "2024-03-18T22:26:29.953Z"
   },
   {
    "duration": 6,
    "start_time": "2024-03-18T22:26:29.962Z"
   },
   {
    "duration": 11,
    "start_time": "2024-03-18T22:26:29.970Z"
   },
   {
    "duration": 17,
    "start_time": "2024-03-18T22:26:29.983Z"
   },
   {
    "duration": 7,
    "start_time": "2024-03-18T22:26:30.002Z"
   },
   {
    "duration": 75,
    "start_time": "2024-03-18T22:26:30.010Z"
   },
   {
    "duration": 44,
    "start_time": "2024-03-18T22:26:30.087Z"
   },
   {
    "duration": 64,
    "start_time": "2024-03-18T22:26:30.133Z"
   },
   {
    "duration": 56,
    "start_time": "2024-03-18T22:26:30.199Z"
   },
   {
    "duration": 38,
    "start_time": "2024-03-18T22:26:30.256Z"
   },
   {
    "duration": 155,
    "start_time": "2024-03-18T22:26:30.296Z"
   },
   {
    "duration": 69,
    "start_time": "2024-03-18T22:26:30.453Z"
   },
   {
    "duration": 259,
    "start_time": "2024-03-18T22:26:30.524Z"
   },
   {
    "duration": 178,
    "start_time": "2024-03-18T22:26:30.784Z"
   },
   {
    "duration": 9,
    "start_time": "2024-03-18T22:26:30.963Z"
   },
   {
    "duration": 235,
    "start_time": "2024-03-18T22:26:30.973Z"
   },
   {
    "duration": 9,
    "start_time": "2024-03-18T22:26:31.209Z"
   },
   {
    "duration": 191,
    "start_time": "2024-03-18T22:26:31.219Z"
   },
   {
    "duration": 178,
    "start_time": "2024-03-18T22:26:31.411Z"
   },
   {
    "duration": 9,
    "start_time": "2024-03-18T22:26:31.591Z"
   },
   {
    "duration": 304,
    "start_time": "2024-03-18T22:26:31.601Z"
   },
   {
    "duration": 51,
    "start_time": "2024-03-18T22:26:31.909Z"
   },
   {
    "duration": 33,
    "start_time": "2024-03-18T22:26:31.962Z"
   },
   {
    "duration": 18,
    "start_time": "2024-03-18T22:26:31.997Z"
   },
   {
    "duration": 4,
    "start_time": "2024-03-18T22:26:32.017Z"
   },
   {
    "duration": 41,
    "start_time": "2024-03-18T22:26:32.023Z"
   },
   {
    "duration": 4,
    "start_time": "2024-03-18T22:26:32.066Z"
   },
   {
    "duration": 29,
    "start_time": "2024-03-18T22:26:32.072Z"
   },
   {
    "duration": 17,
    "start_time": "2024-03-18T22:26:32.103Z"
   },
   {
    "duration": 281,
    "start_time": "2024-03-18T22:26:32.122Z"
   },
   {
    "duration": 8,
    "start_time": "2024-03-18T22:26:32.405Z"
   },
   {
    "duration": 67,
    "start_time": "2024-03-18T22:26:32.414Z"
   },
   {
    "duration": 389,
    "start_time": "2024-03-18T22:26:32.482Z"
   },
   {
    "duration": 49,
    "start_time": "2024-03-18T22:26:32.872Z"
   },
   {
    "duration": 27,
    "start_time": "2024-03-18T22:26:32.923Z"
   },
   {
    "duration": 53,
    "start_time": "2024-03-18T22:26:32.951Z"
   },
   {
    "duration": 19,
    "start_time": "2024-03-18T22:26:33.006Z"
   },
   {
    "duration": 193,
    "start_time": "2024-03-18T22:26:33.027Z"
   },
   {
    "duration": 5,
    "start_time": "2024-03-18T22:26:33.222Z"
   },
   {
    "duration": 13,
    "start_time": "2024-03-18T22:26:33.229Z"
   },
   {
    "duration": 18,
    "start_time": "2024-03-18T22:26:33.244Z"
   },
   {
    "duration": 9,
    "start_time": "2024-03-18T22:26:33.264Z"
   },
   {
    "duration": 14,
    "start_time": "2024-03-18T22:26:33.275Z"
   },
   {
    "duration": 143,
    "start_time": "2024-03-18T22:30:50.878Z"
   },
   {
    "duration": 109,
    "start_time": "2024-03-18T22:36:35.788Z"
   },
   {
    "duration": 8,
    "start_time": "2024-03-18T22:36:42.588Z"
   },
   {
    "duration": 6,
    "start_time": "2024-03-18T22:37:36.195Z"
   },
   {
    "duration": 1089,
    "start_time": "2024-03-18T22:40:53.189Z"
   },
   {
    "duration": 952,
    "start_time": "2024-03-18T22:40:54.280Z"
   },
   {
    "duration": 1350,
    "start_time": "2024-03-18T22:40:55.233Z"
   },
   {
    "duration": 897,
    "start_time": "2024-03-18T22:40:56.584Z"
   },
   {
    "duration": 13,
    "start_time": "2024-03-18T22:40:57.484Z"
   },
   {
    "duration": 6,
    "start_time": "2024-03-18T22:40:57.499Z"
   },
   {
    "duration": 4,
    "start_time": "2024-03-18T22:40:57.507Z"
   },
   {
    "duration": 13,
    "start_time": "2024-03-18T22:40:57.513Z"
   },
   {
    "duration": 7,
    "start_time": "2024-03-18T22:40:57.527Z"
   },
   {
    "duration": 24,
    "start_time": "2024-03-18T22:40:57.535Z"
   },
   {
    "duration": 7,
    "start_time": "2024-03-18T22:40:57.561Z"
   },
   {
    "duration": 13,
    "start_time": "2024-03-18T22:40:57.570Z"
   },
   {
    "duration": 8,
    "start_time": "2024-03-18T22:40:57.584Z"
   },
   {
    "duration": 5,
    "start_time": "2024-03-18T22:40:57.596Z"
   },
   {
    "duration": 10,
    "start_time": "2024-03-18T22:40:57.603Z"
   },
   {
    "duration": 9,
    "start_time": "2024-03-18T22:40:57.615Z"
   },
   {
    "duration": 10,
    "start_time": "2024-03-18T22:40:57.659Z"
   },
   {
    "duration": 6,
    "start_time": "2024-03-18T22:40:57.670Z"
   },
   {
    "duration": 160,
    "start_time": "2024-03-18T22:40:57.678Z"
   },
   {
    "duration": 149,
    "start_time": "2024-03-18T22:40:57.840Z"
   },
   {
    "duration": 7,
    "start_time": "2024-03-18T22:40:57.991Z"
   },
   {
    "duration": 169,
    "start_time": "2024-03-18T22:40:57.999Z"
   },
   {
    "duration": 9,
    "start_time": "2024-03-18T22:40:58.170Z"
   },
   {
    "duration": 189,
    "start_time": "2024-03-18T22:40:58.181Z"
   },
   {
    "duration": 168,
    "start_time": "2024-03-18T22:40:58.371Z"
   },
   {
    "duration": 17,
    "start_time": "2024-03-18T22:40:58.541Z"
   },
   {
    "duration": 148,
    "start_time": "2024-03-18T22:40:58.560Z"
   },
   {
    "duration": 25,
    "start_time": "2024-03-18T22:40:58.709Z"
   },
   {
    "duration": 42,
    "start_time": "2024-03-18T22:40:58.736Z"
   },
   {
    "duration": 18,
    "start_time": "2024-03-18T22:40:58.779Z"
   },
   {
    "duration": 3,
    "start_time": "2024-03-18T22:40:58.798Z"
   },
   {
    "duration": 14,
    "start_time": "2024-03-18T22:40:58.803Z"
   },
   {
    "duration": 3,
    "start_time": "2024-03-18T22:40:58.819Z"
   },
   {
    "duration": 36,
    "start_time": "2024-03-18T22:40:58.823Z"
   },
   {
    "duration": 9,
    "start_time": "2024-03-18T22:40:58.861Z"
   },
   {
    "duration": 253,
    "start_time": "2024-03-18T22:40:58.871Z"
   },
   {
    "duration": 9,
    "start_time": "2024-03-18T22:40:59.126Z"
   },
   {
    "duration": 24,
    "start_time": "2024-03-18T22:40:59.137Z"
   },
   {
    "duration": 308,
    "start_time": "2024-03-18T22:40:59.163Z"
   },
   {
    "duration": 49,
    "start_time": "2024-03-18T22:40:59.473Z"
   },
   {
    "duration": 10,
    "start_time": "2024-03-18T22:40:59.526Z"
   },
   {
    "duration": 48,
    "start_time": "2024-03-18T22:40:59.538Z"
   },
   {
    "duration": 31,
    "start_time": "2024-03-18T22:40:59.588Z"
   },
   {
    "duration": 214,
    "start_time": "2024-03-18T22:40:59.621Z"
   },
   {
    "duration": 4,
    "start_time": "2024-03-18T22:40:59.837Z"
   },
   {
    "duration": 31,
    "start_time": "2024-03-18T22:40:59.842Z"
   },
   {
    "duration": 11,
    "start_time": "2024-03-18T22:40:59.874Z"
   },
   {
    "duration": 12,
    "start_time": "2024-03-18T22:40:59.886Z"
   },
   {
    "duration": 21,
    "start_time": "2024-03-18T22:40:59.899Z"
   },
   {
    "duration": 77,
    "start_time": "2024-03-19T14:36:45.965Z"
   },
   {
    "duration": 71,
    "start_time": "2024-03-19T17:29:19.380Z"
   },
   {
    "duration": 55,
    "start_time": "2024-03-19T17:30:20.893Z"
   },
   {
    "duration": 7,
    "start_time": "2024-03-19T17:31:56.490Z"
   },
   {
    "duration": 1357,
    "start_time": "2024-03-19T17:32:16.256Z"
   },
   {
    "duration": 955,
    "start_time": "2024-03-19T17:32:17.616Z"
   },
   {
    "duration": 1517,
    "start_time": "2024-03-19T17:32:18.572Z"
   },
   {
    "duration": 917,
    "start_time": "2024-03-19T17:32:20.091Z"
   },
   {
    "duration": 11,
    "start_time": "2024-03-19T17:32:21.009Z"
   },
   {
    "duration": 36,
    "start_time": "2024-03-19T17:32:21.021Z"
   },
   {
    "duration": 18,
    "start_time": "2024-03-19T17:32:21.058Z"
   },
   {
    "duration": 22,
    "start_time": "2024-03-19T17:32:21.078Z"
   },
   {
    "duration": 13,
    "start_time": "2024-03-19T17:32:21.102Z"
   },
   {
    "duration": 23,
    "start_time": "2024-03-19T17:32:21.117Z"
   },
   {
    "duration": 23,
    "start_time": "2024-03-19T17:32:21.141Z"
   },
   {
    "duration": 24,
    "start_time": "2024-03-19T17:32:21.165Z"
   },
   {
    "duration": 17,
    "start_time": "2024-03-19T17:32:21.191Z"
   },
   {
    "duration": 13,
    "start_time": "2024-03-19T17:32:21.209Z"
   },
   {
    "duration": 25,
    "start_time": "2024-03-19T17:32:21.223Z"
   },
   {
    "duration": 23,
    "start_time": "2024-03-19T17:32:21.250Z"
   },
   {
    "duration": 11,
    "start_time": "2024-03-19T17:32:21.275Z"
   },
   {
    "duration": 24,
    "start_time": "2024-03-19T17:32:21.288Z"
   },
   {
    "duration": 32,
    "start_time": "2024-03-19T17:32:21.314Z"
   },
   {
    "duration": 181,
    "start_time": "2024-03-19T17:32:21.347Z"
   },
   {
    "duration": 153,
    "start_time": "2024-03-19T17:32:21.529Z"
   },
   {
    "duration": 8,
    "start_time": "2024-03-19T17:32:21.684Z"
   },
   {
    "duration": 181,
    "start_time": "2024-03-19T17:32:21.694Z"
   },
   {
    "duration": 10,
    "start_time": "2024-03-19T17:32:21.877Z"
   },
   {
    "duration": 187,
    "start_time": "2024-03-19T17:32:21.889Z"
   },
   {
    "duration": 183,
    "start_time": "2024-03-19T17:32:22.078Z"
   },
   {
    "duration": 8,
    "start_time": "2024-03-19T17:32:22.263Z"
   },
   {
    "duration": 180,
    "start_time": "2024-03-19T17:32:22.275Z"
   },
   {
    "duration": 30,
    "start_time": "2024-03-19T17:32:22.456Z"
   },
   {
    "duration": 46,
    "start_time": "2024-03-19T17:32:22.488Z"
   },
   {
    "duration": 20,
    "start_time": "2024-03-19T17:32:22.536Z"
   },
   {
    "duration": 16,
    "start_time": "2024-03-19T17:32:22.558Z"
   },
   {
    "duration": 24,
    "start_time": "2024-03-19T17:32:22.576Z"
   },
   {
    "duration": 18,
    "start_time": "2024-03-19T17:32:22.602Z"
   },
   {
    "duration": 17,
    "start_time": "2024-03-19T17:32:22.622Z"
   },
   {
    "duration": 8,
    "start_time": "2024-03-19T17:32:22.641Z"
   },
   {
    "duration": 299,
    "start_time": "2024-03-19T17:32:22.651Z"
   },
   {
    "duration": 8,
    "start_time": "2024-03-19T17:32:22.951Z"
   },
   {
    "duration": 17,
    "start_time": "2024-03-19T17:32:22.960Z"
   },
   {
    "duration": 329,
    "start_time": "2024-03-19T17:32:22.979Z"
   },
   {
    "duration": 59,
    "start_time": "2024-03-19T17:32:23.314Z"
   },
   {
    "duration": 12,
    "start_time": "2024-03-19T17:32:23.374Z"
   },
   {
    "duration": 40,
    "start_time": "2024-03-19T17:32:23.387Z"
   },
   {
    "duration": 11,
    "start_time": "2024-03-19T17:32:23.429Z"
   },
   {
    "duration": 205,
    "start_time": "2024-03-19T17:32:23.441Z"
   },
   {
    "duration": 5,
    "start_time": "2024-03-19T17:32:23.647Z"
   },
   {
    "duration": 21,
    "start_time": "2024-03-19T17:32:23.654Z"
   },
   {
    "duration": 16,
    "start_time": "2024-03-19T17:32:23.677Z"
   },
   {
    "duration": 18,
    "start_time": "2024-03-19T17:32:23.694Z"
   },
   {
    "duration": 8,
    "start_time": "2024-03-19T17:32:23.715Z"
   },
   {
    "duration": 7,
    "start_time": "2024-03-19T17:33:14.903Z"
   },
   {
    "duration": 15,
    "start_time": "2024-03-19T17:34:58.625Z"
   },
   {
    "duration": 115,
    "start_time": "2024-03-19T17:40:39.275Z"
   },
   {
    "duration": 9,
    "start_time": "2024-03-19T17:40:54.163Z"
   },
   {
    "duration": 127,
    "start_time": "2024-03-19T17:42:30.988Z"
   },
   {
    "duration": 118,
    "start_time": "2024-03-19T17:42:47.672Z"
   },
   {
    "duration": 122,
    "start_time": "2024-03-19T17:43:02.280Z"
   },
   {
    "duration": 124,
    "start_time": "2024-03-19T17:43:16.145Z"
   },
   {
    "duration": 143,
    "start_time": "2024-03-19T17:45:19.430Z"
   },
   {
    "duration": 124,
    "start_time": "2024-03-19T17:49:16.872Z"
   },
   {
    "duration": 124,
    "start_time": "2024-03-19T17:50:23.846Z"
   },
   {
    "duration": 138,
    "start_time": "2024-03-19T17:51:00.237Z"
   },
   {
    "duration": 135,
    "start_time": "2024-03-19T17:51:29.028Z"
   },
   {
    "duration": 42660,
    "start_time": "2024-03-19T17:52:57.029Z"
   },
   {
    "duration": 415,
    "start_time": "2024-03-19T17:53:46.029Z"
   },
   {
    "duration": 9,
    "start_time": "2024-03-19T17:54:44.462Z"
   },
   {
    "duration": 14,
    "start_time": "2024-03-19T17:55:07.030Z"
   },
   {
    "duration": 11,
    "start_time": "2024-03-19T17:55:56.397Z"
   },
   {
    "duration": 41637,
    "start_time": "2024-03-19T17:56:17.910Z"
   },
   {
    "duration": 1128,
    "start_time": "2024-03-19T18:00:58.691Z"
   },
   {
    "duration": 23,
    "start_time": "2024-03-19T18:01:44.001Z"
   },
   {
    "duration": 23,
    "start_time": "2024-03-19T18:02:02.014Z"
   },
   {
    "duration": 14,
    "start_time": "2024-03-19T18:04:56.221Z"
   },
   {
    "duration": 16,
    "start_time": "2024-03-19T18:05:10.753Z"
   },
   {
    "duration": 123,
    "start_time": "2024-03-19T18:05:54.519Z"
   },
   {
    "duration": 121,
    "start_time": "2024-03-19T18:09:55.817Z"
   },
   {
    "duration": 122,
    "start_time": "2024-03-19T18:11:45.616Z"
   },
   {
    "duration": 123,
    "start_time": "2024-03-19T18:11:59.798Z"
   },
   {
    "duration": 117,
    "start_time": "2024-03-19T18:12:20.853Z"
   },
   {
    "duration": 77,
    "start_time": "2024-03-19T18:12:48.037Z"
   },
   {
    "duration": 102,
    "start_time": "2024-03-19T18:14:30.260Z"
   },
   {
    "duration": 109,
    "start_time": "2024-03-19T18:15:39.724Z"
   },
   {
    "duration": 93,
    "start_time": "2024-03-19T18:16:00.696Z"
   },
   {
    "duration": 96,
    "start_time": "2024-03-19T18:17:24.631Z"
   },
   {
    "duration": 403,
    "start_time": "2024-03-19T18:44:00.639Z"
   },
   {
    "duration": 13,
    "start_time": "2024-03-19T18:49:11.931Z"
   },
   {
    "duration": 400,
    "start_time": "2024-03-19T18:49:33.027Z"
   },
   {
    "duration": 254,
    "start_time": "2024-03-19T18:50:04.921Z"
   },
   {
    "duration": 19,
    "start_time": "2024-03-19T18:55:08.767Z"
   },
   {
    "duration": 138,
    "start_time": "2024-03-19T18:57:07.693Z"
   },
   {
    "duration": 172,
    "start_time": "2024-03-19T18:57:27.732Z"
   },
   {
    "duration": 9,
    "start_time": "2024-03-19T18:58:46.157Z"
   },
   {
    "duration": 8,
    "start_time": "2024-03-19T19:01:44.605Z"
   },
   {
    "duration": 3,
    "start_time": "2024-03-19T19:18:37.792Z"
   },
   {
    "duration": 17,
    "start_time": "2024-03-19T19:21:43.947Z"
   },
   {
    "duration": 8,
    "start_time": "2024-03-19T19:21:54.010Z"
   },
   {
    "duration": 5,
    "start_time": "2024-03-19T19:24:46.826Z"
   },
   {
    "duration": 5,
    "start_time": "2024-03-19T19:26:16.955Z"
   },
   {
    "duration": 6,
    "start_time": "2024-03-19T19:34:47.842Z"
   },
   {
    "duration": 1212,
    "start_time": "2024-03-19T20:12:57.114Z"
   },
   {
    "duration": 926,
    "start_time": "2024-03-19T20:12:58.328Z"
   },
   {
    "duration": 2056,
    "start_time": "2024-03-19T20:12:59.255Z"
   },
   {
    "duration": 924,
    "start_time": "2024-03-19T20:13:01.313Z"
   },
   {
    "duration": 12,
    "start_time": "2024-03-19T20:13:02.238Z"
   },
   {
    "duration": 21,
    "start_time": "2024-03-19T20:13:02.251Z"
   },
   {
    "duration": 5,
    "start_time": "2024-03-19T20:13:02.273Z"
   },
   {
    "duration": 18,
    "start_time": "2024-03-19T20:13:02.280Z"
   },
   {
    "duration": 19,
    "start_time": "2024-03-19T20:13:02.299Z"
   },
   {
    "duration": 11,
    "start_time": "2024-03-19T20:13:02.320Z"
   },
   {
    "duration": 9,
    "start_time": "2024-03-19T20:13:02.333Z"
   },
   {
    "duration": 36,
    "start_time": "2024-03-19T20:13:02.344Z"
   },
   {
    "duration": 17,
    "start_time": "2024-03-19T20:13:02.381Z"
   },
   {
    "duration": 14,
    "start_time": "2024-03-19T20:13:02.400Z"
   },
   {
    "duration": 7,
    "start_time": "2024-03-19T20:13:02.416Z"
   },
   {
    "duration": 10,
    "start_time": "2024-03-19T20:13:02.425Z"
   },
   {
    "duration": 14,
    "start_time": "2024-03-19T20:13:02.436Z"
   },
   {
    "duration": 10,
    "start_time": "2024-03-19T20:13:02.451Z"
   },
   {
    "duration": 11,
    "start_time": "2024-03-19T20:13:02.463Z"
   },
   {
    "duration": 203,
    "start_time": "2024-03-19T20:13:02.476Z"
   },
   {
    "duration": 106,
    "start_time": "2024-03-19T20:13:02.680Z"
   },
   {
    "duration": 9,
    "start_time": "2024-03-19T20:13:02.788Z"
   },
   {
    "duration": 184,
    "start_time": "2024-03-19T20:13:02.799Z"
   },
   {
    "duration": 8,
    "start_time": "2024-03-19T20:13:02.985Z"
   },
   {
    "duration": 181,
    "start_time": "2024-03-19T20:13:02.994Z"
   },
   {
    "duration": 169,
    "start_time": "2024-03-19T20:13:03.177Z"
   },
   {
    "duration": 9,
    "start_time": "2024-03-19T20:13:03.348Z"
   },
   {
    "duration": 181,
    "start_time": "2024-03-19T20:13:03.361Z"
   },
   {
    "duration": 8,
    "start_time": "2024-03-19T20:13:03.544Z"
   },
   {
    "duration": 24,
    "start_time": "2024-03-19T20:13:03.553Z"
   },
   {
    "duration": 48,
    "start_time": "2024-03-19T20:13:03.579Z"
   },
   {
    "duration": 4,
    "start_time": "2024-03-19T20:13:03.629Z"
   },
   {
    "duration": 35,
    "start_time": "2024-03-19T20:13:03.634Z"
   },
   {
    "duration": 22,
    "start_time": "2024-03-19T20:13:03.671Z"
   },
   {
    "duration": 3,
    "start_time": "2024-03-19T20:13:03.696Z"
   },
   {
    "duration": 30,
    "start_time": "2024-03-19T20:13:03.701Z"
   },
   {
    "duration": 4,
    "start_time": "2024-03-19T20:13:03.732Z"
   },
   {
    "duration": 10,
    "start_time": "2024-03-19T20:13:03.737Z"
   },
   {
    "duration": 13,
    "start_time": "2024-03-19T20:13:03.748Z"
   },
   {
    "duration": 289,
    "start_time": "2024-03-19T20:13:03.762Z"
   },
   {
    "duration": 8,
    "start_time": "2024-03-19T20:13:04.053Z"
   },
   {
    "duration": 8,
    "start_time": "2024-03-19T20:13:04.063Z"
   },
   {
    "duration": 347,
    "start_time": "2024-03-19T20:13:04.072Z"
   },
   {
    "duration": 51,
    "start_time": "2024-03-19T20:13:04.420Z"
   },
   {
    "duration": 10,
    "start_time": "2024-03-19T20:13:04.473Z"
   },
   {
    "duration": 40,
    "start_time": "2024-03-19T20:13:04.485Z"
   },
   {
    "duration": 11,
    "start_time": "2024-03-19T20:13:04.526Z"
   },
   {
    "duration": 194,
    "start_time": "2024-03-19T20:13:04.539Z"
   },
   {
    "duration": 4,
    "start_time": "2024-03-19T20:13:04.734Z"
   },
   {
    "duration": 7,
    "start_time": "2024-03-19T20:13:04.740Z"
   },
   {
    "duration": 4,
    "start_time": "2024-03-19T20:13:04.749Z"
   },
   {
    "duration": 14,
    "start_time": "2024-03-19T20:13:04.755Z"
   },
   {
    "duration": 22,
    "start_time": "2024-03-19T20:13:04.771Z"
   },
   {
    "duration": 145,
    "start_time": "2024-03-19T20:18:07.730Z"
   },
   {
    "duration": 153,
    "start_time": "2024-03-19T20:18:17.821Z"
   },
   {
    "duration": 162,
    "start_time": "2024-03-19T20:18:28.316Z"
   },
   {
    "duration": 159,
    "start_time": "2024-03-19T20:18:36.828Z"
   },
   {
    "duration": 177,
    "start_time": "2024-03-19T20:19:41.959Z"
   },
   {
    "duration": 161,
    "start_time": "2024-03-19T20:20:54.429Z"
   },
   {
    "duration": 162,
    "start_time": "2024-03-19T20:21:17.538Z"
   },
   {
    "duration": 152,
    "start_time": "2024-03-19T20:21:53.147Z"
   },
   {
    "duration": 345,
    "start_time": "2024-03-19T20:22:47.970Z"
   },
   {
    "duration": 259,
    "start_time": "2024-03-19T20:23:48.116Z"
   },
   {
    "duration": 179,
    "start_time": "2024-03-19T20:24:21.265Z"
   },
   {
    "duration": 1177,
    "start_time": "2024-03-19T20:26:39.339Z"
   },
   {
    "duration": 974,
    "start_time": "2024-03-19T20:26:40.518Z"
   },
   {
    "duration": 1535,
    "start_time": "2024-03-19T20:26:41.494Z"
   },
   {
    "duration": 848,
    "start_time": "2024-03-19T20:26:43.031Z"
   },
   {
    "duration": 11,
    "start_time": "2024-03-19T20:26:43.881Z"
   },
   {
    "duration": 10,
    "start_time": "2024-03-19T20:26:43.893Z"
   },
   {
    "duration": 4,
    "start_time": "2024-03-19T20:26:43.905Z"
   },
   {
    "duration": 5,
    "start_time": "2024-03-19T20:26:43.910Z"
   },
   {
    "duration": 6,
    "start_time": "2024-03-19T20:26:43.917Z"
   },
   {
    "duration": 10,
    "start_time": "2024-03-19T20:26:43.926Z"
   },
   {
    "duration": 7,
    "start_time": "2024-03-19T20:26:43.938Z"
   },
   {
    "duration": 10,
    "start_time": "2024-03-19T20:26:43.946Z"
   },
   {
    "duration": 6,
    "start_time": "2024-03-19T20:26:43.958Z"
   },
   {
    "duration": 6,
    "start_time": "2024-03-19T20:26:43.966Z"
   },
   {
    "duration": 43,
    "start_time": "2024-03-19T20:26:43.973Z"
   },
   {
    "duration": 10,
    "start_time": "2024-03-19T20:26:44.017Z"
   },
   {
    "duration": 8,
    "start_time": "2024-03-19T20:26:44.029Z"
   },
   {
    "duration": 10,
    "start_time": "2024-03-19T20:26:44.039Z"
   },
   {
    "duration": 23,
    "start_time": "2024-03-19T20:26:44.050Z"
   },
   {
    "duration": 172,
    "start_time": "2024-03-19T20:26:44.075Z"
   },
   {
    "duration": 110,
    "start_time": "2024-03-19T20:26:44.249Z"
   },
   {
    "duration": 9,
    "start_time": "2024-03-19T20:26:44.361Z"
   },
   {
    "duration": 175,
    "start_time": "2024-03-19T20:26:44.371Z"
   },
   {
    "duration": 8,
    "start_time": "2024-03-19T20:26:44.547Z"
   },
   {
    "duration": 178,
    "start_time": "2024-03-19T20:26:44.557Z"
   },
   {
    "duration": 186,
    "start_time": "2024-03-19T20:26:44.737Z"
   },
   {
    "duration": 10,
    "start_time": "2024-03-19T20:26:44.924Z"
   },
   {
    "duration": 204,
    "start_time": "2024-03-19T20:26:44.939Z"
   },
   {
    "duration": 9,
    "start_time": "2024-03-19T20:26:45.145Z"
   },
   {
    "duration": 31,
    "start_time": "2024-03-19T20:26:45.155Z"
   },
   {
    "duration": 42,
    "start_time": "2024-03-19T20:26:45.188Z"
   },
   {
    "duration": 4,
    "start_time": "2024-03-19T20:26:45.231Z"
   },
   {
    "duration": 33,
    "start_time": "2024-03-19T20:26:45.236Z"
   },
   {
    "duration": 36,
    "start_time": "2024-03-19T20:26:45.270Z"
   },
   {
    "duration": 30,
    "start_time": "2024-03-19T20:26:45.308Z"
   },
   {
    "duration": 50,
    "start_time": "2024-03-19T20:26:45.340Z"
   },
   {
    "duration": 63,
    "start_time": "2024-03-19T20:26:45.391Z"
   },
   {
    "duration": 25,
    "start_time": "2024-03-19T20:26:45.456Z"
   },
   {
    "duration": 23,
    "start_time": "2024-03-19T20:26:45.483Z"
   },
   {
    "duration": 250,
    "start_time": "2024-03-19T20:26:45.507Z"
   },
   {
    "duration": 8,
    "start_time": "2024-03-19T20:26:45.758Z"
   },
   {
    "duration": 7,
    "start_time": "2024-03-19T20:26:45.767Z"
   },
   {
    "duration": 350,
    "start_time": "2024-03-19T20:26:45.776Z"
   },
   {
    "duration": 55,
    "start_time": "2024-03-19T20:26:46.128Z"
   },
   {
    "duration": 12,
    "start_time": "2024-03-19T20:26:46.184Z"
   },
   {
    "duration": 27,
    "start_time": "2024-03-19T20:26:46.216Z"
   },
   {
    "duration": 13,
    "start_time": "2024-03-19T20:26:46.245Z"
   },
   {
    "duration": 197,
    "start_time": "2024-03-19T20:26:46.259Z"
   },
   {
    "duration": 4,
    "start_time": "2024-03-19T20:26:46.457Z"
   },
   {
    "duration": 13,
    "start_time": "2024-03-19T20:26:46.463Z"
   },
   {
    "duration": 5,
    "start_time": "2024-03-19T20:26:46.478Z"
   },
   {
    "duration": 9,
    "start_time": "2024-03-19T20:26:46.485Z"
   },
   {
    "duration": 24,
    "start_time": "2024-03-19T20:26:46.496Z"
   },
   {
    "duration": 1136,
    "start_time": "2024-03-19T20:44:41.082Z"
   },
   {
    "duration": 803,
    "start_time": "2024-03-19T20:44:42.222Z"
   },
   {
    "duration": 1494,
    "start_time": "2024-03-19T20:44:43.026Z"
   },
   {
    "duration": 812,
    "start_time": "2024-03-19T20:44:44.522Z"
   },
   {
    "duration": 11,
    "start_time": "2024-03-19T20:44:45.335Z"
   },
   {
    "duration": 13,
    "start_time": "2024-03-19T20:44:45.347Z"
   },
   {
    "duration": 6,
    "start_time": "2024-03-19T20:44:45.361Z"
   },
   {
    "duration": 13,
    "start_time": "2024-03-19T20:44:45.368Z"
   },
   {
    "duration": 22,
    "start_time": "2024-03-19T20:44:45.382Z"
   },
   {
    "duration": 24,
    "start_time": "2024-03-19T20:44:45.406Z"
   },
   {
    "duration": 37,
    "start_time": "2024-03-19T20:44:45.432Z"
   },
   {
    "duration": 22,
    "start_time": "2024-03-19T20:44:45.471Z"
   },
   {
    "duration": 18,
    "start_time": "2024-03-19T20:44:45.495Z"
   },
   {
    "duration": 28,
    "start_time": "2024-03-19T20:44:45.515Z"
   },
   {
    "duration": 26,
    "start_time": "2024-03-19T20:44:45.544Z"
   },
   {
    "duration": 33,
    "start_time": "2024-03-19T20:44:45.571Z"
   },
   {
    "duration": 9,
    "start_time": "2024-03-19T20:44:45.605Z"
   },
   {
    "duration": 17,
    "start_time": "2024-03-19T20:44:45.616Z"
   },
   {
    "duration": 9,
    "start_time": "2024-03-19T20:44:45.634Z"
   },
   {
    "duration": 145,
    "start_time": "2024-03-19T20:44:45.645Z"
   },
   {
    "duration": 97,
    "start_time": "2024-03-19T20:44:45.791Z"
   },
   {
    "duration": 9,
    "start_time": "2024-03-19T20:44:45.890Z"
   },
   {
    "duration": 180,
    "start_time": "2024-03-19T20:44:45.900Z"
   },
   {
    "duration": 8,
    "start_time": "2024-03-19T20:44:46.082Z"
   },
   {
    "duration": 183,
    "start_time": "2024-03-19T20:44:46.091Z"
   },
   {
    "duration": 160,
    "start_time": "2024-03-19T20:44:46.276Z"
   },
   {
    "duration": 8,
    "start_time": "2024-03-19T20:44:46.437Z"
   },
   {
    "duration": 162,
    "start_time": "2024-03-19T20:44:46.448Z"
   },
   {
    "duration": 8,
    "start_time": "2024-03-19T20:44:46.612Z"
   },
   {
    "duration": 24,
    "start_time": "2024-03-19T20:44:46.621Z"
   },
   {
    "duration": 22,
    "start_time": "2024-03-19T20:44:46.646Z"
   },
   {
    "duration": 3,
    "start_time": "2024-03-19T20:44:46.669Z"
   },
   {
    "duration": 18,
    "start_time": "2024-03-19T20:44:46.673Z"
   },
   {
    "duration": 37,
    "start_time": "2024-03-19T20:44:46.692Z"
   },
   {
    "duration": 4,
    "start_time": "2024-03-19T20:44:46.730Z"
   },
   {
    "duration": 15,
    "start_time": "2024-03-19T20:44:46.735Z"
   },
   {
    "duration": 3,
    "start_time": "2024-03-19T20:44:46.752Z"
   },
   {
    "duration": 11,
    "start_time": "2024-03-19T20:44:46.756Z"
   },
   {
    "duration": 10,
    "start_time": "2024-03-19T20:44:46.768Z"
   },
   {
    "duration": 256,
    "start_time": "2024-03-19T20:44:46.779Z"
   },
   {
    "duration": 8,
    "start_time": "2024-03-19T20:44:47.036Z"
   },
   {
    "duration": 6,
    "start_time": "2024-03-19T20:44:47.046Z"
   },
   {
    "duration": 326,
    "start_time": "2024-03-19T20:44:47.054Z"
   },
   {
    "duration": 55,
    "start_time": "2024-03-19T20:44:47.381Z"
   },
   {
    "duration": 10,
    "start_time": "2024-03-19T20:44:47.437Z"
   },
   {
    "duration": 32,
    "start_time": "2024-03-19T20:44:47.448Z"
   },
   {
    "duration": 13,
    "start_time": "2024-03-19T20:44:47.481Z"
   },
   {
    "duration": 193,
    "start_time": "2024-03-19T20:44:47.495Z"
   },
   {
    "duration": 4,
    "start_time": "2024-03-19T20:44:47.689Z"
   },
   {
    "duration": 8,
    "start_time": "2024-03-19T20:44:47.694Z"
   },
   {
    "duration": 28,
    "start_time": "2024-03-19T20:44:47.704Z"
   },
   {
    "duration": 31,
    "start_time": "2024-03-19T20:44:47.734Z"
   },
   {
    "duration": 34,
    "start_time": "2024-03-19T20:44:47.766Z"
   }
  ],
  "kernelspec": {
   "display_name": "Python 3 (ipykernel)",
   "language": "python",
   "name": "python3"
  },
  "language_info": {
   "codemirror_mode": {
    "name": "ipython",
    "version": 3
   },
   "file_extension": ".py",
   "mimetype": "text/x-python",
   "name": "python",
   "nbconvert_exporter": "python",
   "pygments_lexer": "ipython3",
   "version": "3.11.5"
  },
  "toc": {
   "base_numbering": 1,
   "nav_menu": {},
   "number_sections": true,
   "sideBar": true,
   "skip_h1_title": true,
   "title_cell": "Table of Contents",
   "title_sidebar": "Contents",
   "toc_cell": false,
   "toc_position": {},
   "toc_section_display": true,
   "toc_window_display": false
  }
 },
 "nbformat": 4,
 "nbformat_minor": 5
}
